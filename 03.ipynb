{
 "cells": [
  {
   "cell_type": "markdown",
   "metadata": {
    "dotnet_interactive": {
     "language": "csharp"
    }
   },
   "source": [
    "--- Day 3: Rucksack Reorganization ---\n",
    "One Elf has the important job of loading all of the rucksacks with supplies for the jungle journey. Unfortunately, that Elf didn't quite follow the packing instructions, and so a few items now need to be rearranged.\n",
    "\n",
    "Each rucksack has two large compartments. All items of a given type are meant to go into exactly one of the two compartments. The Elf that did the packing failed to follow this rule for exactly one item type per rucksack.\n",
    "\n",
    "The Elves have made a list of all of the items currently in each rucksack (your puzzle input), but they need your help finding the errors. Every item type is identified by a single lowercase or uppercase letter (that is, a and A refer to different types of items).\n",
    "\n",
    "The list of items for each rucksack is given as characters all on a single line. A given rucksack always has the same number of items in each of its two compartments, so the first half of the characters represent items in the first compartment, while the second half of the characters represent items in the second compartment.\n",
    "\n",
    "For example, suppose you have the following list of contents from six rucksacks:\n",
    "\n"
   ]
  },
  {
   "cell_type": "code",
   "execution_count": 10,
   "metadata": {
    "dotnet_interactive": {
     "language": "csharp"
    },
    "vscode": {
     "languageId": "dotnet-interactive.csharp"
    }
   },
   "outputs": [],
   "source": [
    "var testInput = @\"\n",
    "vJrwpWtwJgWrhcsFMMfFFhFp\n",
    "jqHRNqRjqzjGDLGLrsFMfFZSrLrFZsSL\n",
    "PmmdzqPrVvPwwTWBwg\n",
    "wMqvLMZHhHMvwLHjbvcjnnSBnvTQFn\n",
    "ttgJtRGJQctTZtZT\n",
    "CrZsJsPPZsGzwwsLwLmpwMDw\n",
    "\";\n",
    "\n",
    "var input = @\"\n",
    "dWlhclDHdFvDCCDfFq\n",
    "mGdZBZBwRGjZMFgvTvgtvv\n",
    "jwwJrzdzGdSbGGnNlzWczHzPHPhn\n",
    "cczcbMBszhzzDBTBPPPGjtvtlt\n",
    "LqJLfpwdLnvQLRGQjGtj\n",
    "gSgnSJJCGSGpGSrwgfhchmmmHzcrHDmbrmMm\n",
    "bVjstCsSstCLCrbSLnMpdMndcLddcqcpHR\n",
    "wPZJQJwtBfJZmgBwPTcpTdcnfHMppcGMdG\n",
    "gmFJzwPJJtszvNhCNC\n",
    "DmjZDMZWDqGRqqRpHmmRLTTNTPTfCQJQQLJHTClc\n",
    "FtzfvrfFwVgtzztgBLJNcNlTcTVNNQLN\n",
    "vgsdbzzrwtqWfWRpZDdZ\n",
    "rJhqRhLHhdcQqdHqfQGfPGstgGPlWttM\n",
    "DzCpDDmnNCmBZBZnVBmZzBGPfsbglfNPwgPGPMWsWWft\n",
    "BZFnlmpBpBzDzVZmhFHFrrrchhRqTdrc\n",
    "DWCCWFNqdGFdPVcb\n",
    "HllttQsTRlJlsblrHlhdmPLVcVcTccndLvPLmL\n",
    "HSlstHgJltghhRrzNBNDzSwMjNZwNb\n",
    "dzGSHCWSsGVVSdHVHHWWVVDCgJDpQqLTTRJpgmTLRmJTTpTR\n",
    "BvNjMPZMBtBBMvvNMNttlhLQqCJpLmhTRQqQJgRJLQQg\n",
    "llNncBlMCwwMnwPZrGsVHzcfFGdHGFGs\n",
    "JfZhphMMQmFzDTDjSdrQjQ\n",
    "sqHCbCwBVtbqbCqtrWdjzlSJTlrTSWBn\n",
    "bHcwbGCGRssNscwtHNbwvmRFvpFFJFvLZMmPLFfv\n",
    "qBCrzznVmDCmMMDNgrgcrvHHcgbQcW\n",
    "TTTsdJRTRhhlsgbvbdCFdbWvbQ\n",
    "JhGGlfRlJsnCMDMqjmfV\n",
    "rqLLvDLtStDLQhQDQrQhhNdsmWdmmjjnssPnTMnTzfTsWT\n",
    "ZRFFpgCgppcBcnjTsjTMTfPFMP\n",
    "GCZpGlwJwBgGHcJhSSHLDDrNqrMtNq\n",
    "FsPFqsDNZFNnZrcBmWfWWQ\n",
    "lSnRlRTvgrWtctTmft\n",
    "SMbGbbvnGlnSDwGqLwNCqNVD\n",
    "dPQDcBwJJDgDTPgGgQTBVjSsmLhLTrLmjSLpjSLh\n",
    "MvvZRHtMtbCNvCNCNtNvbRfBSMSrjmLpjnjmVhrVSLsnnmSh\n",
    "qHZtbBZfRztbHbCzNRHPQgJPJgGgglFPPFqdQD\n",
    "MsBsVDspRPfPlhMl\n",
    "zWnCFzHbSCwqNmPSjmGlsmfN\n",
    "FnHnFbFzsHHCCgzCzbBptVppgvvVgVrpBrJt\n",
    "pTLntptZjQLfVDjQTDlVJCSWNCPSCCsSNmFlNslm\n",
    "BBHbqGHHqgwSWSCCWwZWWZ\n",
    "qRzbhhbzzrHdRRHhRHvzZjfrVTrppVQttDfcQTfp\n",
    "DHsdHPHHsHMsRmhMZZQBtljgZGtC\n",
    "NFnCbFznLVJbVrjhQthjGBLZBjGL\n",
    "wNrfFJJbCpNnfbdwDSDHsvsHmsmH\n",
    "jLZRjnMMjJhJnvtQbdHfHZbvHQ\n",
    "mBzwptCWlcFCwsHSTpQfQHQfrpTb\n",
    "mNltzmsCNmFzGwCBllGRgRgqjgLMnGqjnPjV\n",
    "ZqqcqmVVtbcBMFfFMcQfgphJ\n",
    "HLWLDvWjjLwTWzzvGLThQQshQllgJDJgfbffJQ\n",
    "vHzLvrwwzGzTRGzzLLRPRwRdSVdnBBdSbBSVStbNmnrmZS\n",
    "TWVVvPSgwWSqcRgRwbRRcqshsfFzzzChTGNHzHhhhCsG\n",
    "njZrjMLlpmDmGfSGtrNttzCF\n",
    "ZQBmZdDBZRRPRSBgcb\n",
    "TpntvdpnZDptnbnTDGtSFSlFmzCzzmSFRjqlZj\n",
    "MWrNcWRMlgqzMjzq\n",
    "NPwsPNrBNcVHNNcJHBNBcJwwttDvGVnDptVRtbnTtGvVGtGG\n",
    "tsbbvvSfnqvzQLLBjfMLdd\n",
    "gJRmRNmJNchgmmrFJhFgWJQMwBnjwrMBVQwQTBdLdVQj\n",
    "GcGpGGRGJgqstvpbnCqb\n",
    "rsHcrbZHBTTtLtNSwwHLLJ\n",
    "mFqhWVsjsVCjQlNJGMwMlMMGMh\n",
    "QggzffQRCfgVFWzzCQffqfZpZDcRvTTBTvvZnsdnddcn\n",
    "bPFMFFBpMlFfMZMpHGNSrNctJcPSSchJchPt\n",
    "zCgwnmgzQDnQgdWWQRgqSrqLSqSgssLNJhgJ\n",
    "rQCQQTrRRmDBFfbHBFHZbT\n",
    "fzfPQsGrrMMjtHtBHs\n",
    "SwNNDqwhWpVTwbDGGDmwSVhZRZHdbCtgBjCRjMtbBHtRMd\n",
    "vVTGvVGNvPPvQvfncJ\n",
    "cwzMJbclHDPqfJQPfq\n",
    "rrqjjTBrqqBjRCgTjrRjNrsGPDhDFGCfWGfPFfFPGWfD\n",
    "BZTTSTZgjbSwVptvpq\n",
    "PPPPJpvpJsJwPHHPsJdTNZRZZZjTFFmRRRNjZd\n",
    "qbWVfChDCDnVVDGfnSFNNjRLmNfBNLQjLjmBRm\n",
    "DhFDhbnWCDhGcbJPPwrsrMwrvlvc\n",
    "lFSDTwHTSwlTNwFFlwNcFFpjLZvZqvnqLPnnWbgngbbncqbZ\n",
    "rzQfMzRGrRGJCffBMGdGsJZWWnqWVqdPPgNvvVZWPWWn\n",
    "RJrttBtNQCsNzTpShhHFDwFlth\n",
    "QNzQFjNFrQPNbmPpqTTDGswWmB\n",
    "ggHRcSlcCVCSzMVqDGwgqTWpsmqwqG\n",
    "cltzCZtLClHRRtMZZLQjfNvtrJfhvrddvNNd\n",
    "mcfWHffBFnQRQlTFdv\n",
    "wssSLVbbzDVbzbggzSzNshNMnvnljRdvQRlMBjvQdnCj\n",
    "bhDzVSSJDDJhDLBwtbDzzbbWppfpcmWGmprqqGtqprcHPp\n",
    "rpVFrZpgHWSZrFPqhzwcqPwmcVBD\n",
    "vMTnQJjQLCbljvvQzTMbTjPNdBLwwDhmhNNqPwmmhhBh\n",
    "jvGjjQJnrspGHgFz\n",
    "sjssjtZlcphZHwWvcrHTwWJH\n",
    "qDdzzrFNNNDGdFDzzVBVVvfWJPfgPmgWPgvwVH\n",
    "nqMQGDrnLGnqqLNqjtCZZjsMhZhCMbtl\n",
    "JJJsLFmzsrFlSpzPscjgHhnRnmvcjqRvvj\n",
    "fCMQbCbTjjqTGhjc\n",
    "bfdbWdCddfBbtCfbfbqVWQQpPlBrJLJJSSLwppFssFzLzp\n",
    "pdbbzlffWtJbgQwhcphQcCCg\n",
    "vHvLFvVLvSfFRLnRFRNHjPjggcssQcjjsnwhsPCC\n",
    "vGVGGFFVHLTvDRHDmBbTzfZWMdJZlfMm\n",
    "wjCbjQgjTQhNNzgWQCWrDFMZmZDZDCrrMDpLpL\n",
    "czGSPznnRGGJGGlVVRVBGGlBmDDcMDFDDZLqfffZFrrZqFpZ\n",
    "JPGlvBSJHVGnVsjvQjjzwdwjzd\n",
    "MFlWQHDTpnpsFNNQllWFWlhzjGgrgDzGGhGGjvmZDZrh\n",
    "PtTPcTLbBCVPTRVcvhjmmhVhSZGGgvZg\n",
    "JLPfCwPbTbBPJCfblplMpqWsMpMwWHQn\n",
    "QbHVBBzWtzHBNtBwQSgqhqSbFgRLjhmqqj\n",
    "ZnCnMcdsDnJTncggFJwRmSwgRFmL\n",
    "sTMZpGDvsZcMpcvTCPHwzrfzrpzHpWBrWz\n",
    "PMdJWwJWHFWJnNzbDlfbCfMvbl\n",
    "rZgttrFptFFcBtccbbCDvgfbGCGGgGDz\n",
    "QsZBmsrFscrVrjQJjJQRJWWLwq\n",
    "GwNNJwwRThwrWfhh\n",
    "SmQqmzsjHssQzCbvsmSSzsQTjWpFTTfFfThchhFTBBfppB\n",
    "mmbHbmtmCzzQZzQRdZJhNMdMlRMglh\n",
    "rrsPbncQvvgnnrTdGDVcCdpZHHZp\n",
    "RwwwhjLLqtJFwjzwtwmwwGpDZVdGDVdZBZDFHdHZCp\n",
    "zhzwLhhfffLtjNChgWbbrbnMvPrMrrfv\n",
    "tQMtQtTSBFtSmQSttMggMtbtnTnPrZvrnzNNTGZvrZZdLdnL\n",
    "HqhwDpDcwlHqpVrrFzvFGpZrrzrP\n",
    "RwlhhjwRCjVfjDbMtFWBWJMgWjWm\n",
    "WpWVlWzsGlBJpspNclNlhhhmgzrdtzQMQttzMmtt\n",
    "RfnPRLTPDHRdPbwvvntnSrFgmvnmtm\n",
    "CwqRDCCwqCwbCTqJcJBNcZqdVcBlpJ\n",
    "tpfnNBsGGNRppRCgfgRRCRQJGMPPWdwMJdWFFwjVzGPJ\n",
    "chLSchLTbLqvqcZLlvvLqbmldMzFFWdzVSFWFMzQVJwjQjdM\n",
    "rLqqcjDrcvhRsDfHDtNNnN\n",
    "DjZjvTTDqrtTZZSMcdRdmRJrcJNc\n",
    "HWgPGVhFPgnSVtnJcdMs\n",
    "FPLfBwCWGPfCwfLHCCDBZlbDpBjvqTtDzzDj\n",
    "FJNqNFgNFssqGGqBsTlMVcgVrCwLwlhcrw\n",
    "fRZzDmDZvvDdZbtdpDZmbrThrLMCvcChwwlSTrvMSr\n",
    "zmfZmtZmpDmbfWRDDZdqFljqnNQjGWnsjFqGsG\n",
    "rMdMWddmJmvdSdmWfWMddpVRqRFVHRRqMRRPQMRqRq\n",
    "tDGtGGhLjLLZNLjjNgNthGtqHTVqRVVpPDRpHHVRQVRPPR\n",
    "ZlLtzNjgsZZlssLgtjNpfWfJvlJrrvCJfBmBfn\n",
    "hqpWvFJsJFNHhqMWNhWvWRmmDcDMLcwZnjcwnjRnjn\n",
    "LdrlgCCrSSTrTnwRjmwRQZwdwG\n",
    "PVlfClrLlLlfggtBPzHHhHFbWzJNbvqJFNqF\n",
    "TbbQtnDtbGGjGlGsGHpJJmFWFJJrBWWFlWrS\n",
    "CZzzNzzhddNchhMhhRVjpCBwBrCvJvpmSCvrwJ\n",
    "fhZZhddRjRgZzMZRzPjPTsLGQtHLTHTbDPQTtqPT\n",
    "nHnWsQNQQWTWQshwjBJJJmHwFBwm\n",
    "VZZpfbffZVvbSbGfBhSwmtmmJlmjJFJJ\n",
    "bpphpMfMvMzDbMGZgQNrrngzdTsNqWdd\n",
    "VPNddVTPPmdnVcPVZcdTmcDbQTFjMpjtFzbMtFjzsFTssT\n",
    "lJCllWCrgvRlgwlJfRRvSzjSjQpbzMHpbwMQpszM\n",
    "fRhGBBJJCgrNLsNPNVVhNq\n",
    "pLrVDgbNbjVplpsltHBqWSqhSQcHDttH\n",
    "MCdCwCGTmnTmmmvTTCwCqNhHQhRWcwHWBRHSqSQH\n",
    "TNTFFPfffTvFTJvTPCPTFfGdzVjspVLZglJbsbZpVblrzjlb\n",
    "cdPzFrldgcdCrnlznPzrBNRssLLBbVNVZsLHRHdm\n",
    "wTQQwvvtqwqcGvTZmVHBbVLLBbRV\n",
    "GWJSGfJWcjQwhQQWjqJhhGfgpMnMzDnpMlPpMnDlMrzl\n",
    "pMhqTTsSpdBPpNBshsdMMTQFvFlQtQWCRQlCllVFqVqG\n",
    "dfcbnmrnjzRFvGQQGvfv\n",
    "mDrjLLLcJjLhpZSSJMdpph\n",
    "NGZNwqFqZhhcFSCfRzwdzRfCzVRw\n",
    "QTTmBTsWQWJPPCvzvpHPzdvVFR\n",
    "bsmWTBbQDbmbLQQMsWWQchgqLqhGGGGZLhSFjhqS\n",
    "HgmGlgsvBBDgBGCdHHvHwCGwhZJWhTjSdhTSFFFhJtSJTJhT\n",
    "RQfVrfQNszMQfpMzpNnfLbtjhtSbWJWFWtFFtFJtFSZq\n",
    "PNzLfnLnBCPHgsgC\n",
    "mTZGgCdNSNmCQLLpPnDhRlGhpV\n",
    "vWJHWFsfHMWBBFbBsjfjHrFfLRRLPPnpLthttRVPLSnhSPbS\n",
    "fzMrBjWfBrzsZCZmSTgQzcNN\n",
    "mgmCZCMgmnZmZgBZpgpJfbQfwSQPDTdfdwSDfwhn\n",
    "sHhcrWLcFlzHcHRNNFvNFcFPwDDTWdddDdqWbSTWDPTTQS\n",
    "RNsslsRrNcRNvNRFFNvVsghZBJtVCCtCtGghjhGBGG\n",
    "gchrcRRdnRwPPnvQ\n",
    "CVCCSrDjFHjVDbBLFGGBSvwnwNMnMsPPNsNPvwPQVM\n",
    "lHLCTHGDCbbjFTTzdWlpcqfgcrdzZg\n",
    "fRDPsDsqqJttttJSzPDgJWQCbQQbGMWCCnGGPVGVQQ\n",
    "rTTBvZhrvBnWWDWCbZWW\n",
    "cwLlTLpjTwBFLLhgfRRfmRqRDmRdjq\n",
    "sprGGPTrJTsGPzszqGzNtTtpfbQddQSQSDFDFvvbZvwFbbfN\n",
    "LWWCMVmwMmgWFQfFDDvZDgdF\n",
    "mlMmRVCWVMmmHRjVCmjHWRhMzpTtlrlPzrtzwlsGPrpwtrJp\n",
    "tsfwwfjfdfrtrClfvwvvLnTHNmvLHcNccRNcvNWH\n",
    "qQSqZqFQRBzghDFncHgmccHNmWcNmM\n",
    "SQJphFJzRDSsdpVlllrCrw\n",
    "vGQqLQFvBvLvdNnvjnvNDc\n",
    "TRJwmWmZWlCCmzznbNhhbDhRgj\n",
    "CCTtDTlmDTWTmDmZZlVLLsFfstfFFLsBLQfF\n",
    "cfWflMmWWlWfPWBhBlQtLmmvrrrvCLjvRTjLLwwr\n",
    "gSgbsbgHdsjzHbqbdVDLZLvTZwLTvSrZrFvZLw\n",
    "sdbJqDNdjJNdsJBpBWpJlMcfcB\n",
    "FHlMHPqDLlPctgHSnttCSC\n",
    "zhrmBrTwJTjBmQcSQvQqbtwGvg\n",
    "jBjmBmJjjjRZTBzhhrBJLDdZqfpDMdfWWlDDLMlV\n",
    "zPVdbsBzZdwqJGhrLTvNNJqH\n",
    "tmmCgCPCDDnptHDjNvGvhrDvLv\n",
    "pRWRlpSpPllClnpbQVQwFFVSQFVBZz\n",
    "nDrCvmvMnMSmsCvblBzzCZplbJlTbZ\n",
    "FNRtFWRfcGqFGQbzlZTQqQTBbd\n",
    "GRwFfNtwFRNFGMvBsnnwMMMBjn\n",
    "LVTBjjlJCDrnJzJNQR\n",
    "GsGGsggGpfhgpchgdqzbMzzhzQRnnMRrNzzR\n",
    "PwWFqFGpwWpdWgfsGggdmjCVHPHlCCCVZNCjVmVj\n",
    "qVTsCWwbCsPlCVfcbvfPDgLzbzDDhrzRrjgZghgr\n",
    "ntmHmNpSQNGtntNttmSdSdBdjrrDLQZQLLhRrFFFRDTFZhDF\n",
    "mtMtBNTSNBpNJStMGSdHppNcVWPsWvqVcsVJfwwqlqWqlc\n",
    "vvWzLvvdpZDvhTpcrLcTTLpdwSPnCfJwCMnQSMwSnCGJrnwr\n",
    "ttHVmVNNsHBBRsHbMMwwnjnjBfjJwCMP\n",
    "tsVllgNVqbRlfplldDvDWT\n",
    "mLjLsQqLQqsBRvvlRBLRlT\n",
    "bhgtDDhCtmptmTTS\n",
    "nfmdbggwGWrfsPzfWq\n",
    "JpWDcSGJpGzsHPSSlbbd\n",
    "wVRqVZwwRwPDwbDddH\n",
    "VtVVVLthLVtVgfQLRTNtqDcCcJBmmWMWWprpFrcBJWNp\n",
    "dhhhDtmLdttdPlslGlRFjfzBBpzzRpGJ\n",
    "QMrVMwbVrrbvVVCrvcnqQQrrSMBJfpjFSzfjJFMFRWSpjjFG\n",
    "cwvbHHbCqVchRDHgDsPTdt\n",
    "CgVNCtDsDtJGZZGqMMGhDq\n",
    "cLRnSHgWcRdLHWSSRLjQdlHBTTPcPwwhzqzTMBPTwhPPwP\n",
    "HnnnglnWWgdRjlmQNsNFmJCFJFvsJsNN\n",
    "hfccLbjhfSRbfDZjFRJzrlvlwwlnnFrWwzqr\n",
    "TCsPLNtQdpdQQVtVNvJNJWlzJzwlrvJl\n",
    "pHtPsPtPtCQfbRHHDHhMLh\n",
    "nWRWgLtWnfTcZNNsscfd\n",
    "JMGzMVJwMVTvzVQFGHMMmPdddsPsCjldlHPcScNPsP\n",
    "vGrMQQmmvTQzMJpghWRWgpbbBqLbLR\n",
    "WSbhFbPTpRfTfPdhpfbhSbfPQLzlQlzlHvtQsvlltlsgHdgQ\n",
    "pZcGJDZNGcVrJwrDrrnvtNvlNzsgtgzvvsgt\n",
    "qmJZZJcBqwrMJcVbWfSPPWpmpjmSCF\n",
    "jHVjjCcpNrDgjsfB\n",
    "ndqllRvJQtqlQQTRWllFNDrsMZBfDBLvNMNDfsbZ\n",
    "qTFnWJqdWRdqWRlnTRnQGnTmwwSHCzpcGNmHNcPVcHGmCz\n",
    "pZCpBhDfvgBVZQGMMVZVlq\n",
    "sLsLTTSssjPnTNbFGRGFPVHqMMRF\n",
    "TsNSccnjLdcsLjdmjWvWvBhfmvWpCGhGhD\n",
    "VWFFFPMpPVSMbTppHTnHTbRH\n",
    "DtvfNdBNddDNSLjsvDTTHnzzHwrTrwsrwqbT\n",
    "dgBLNffdgjjtfBQSvgNjNDlvMcQJmJJmZCMmVVVZFPFcPMGG\n",
    "VWsQLHMVVSNRShWLhNSNLjbbbddbpDZDddcbZdDRztpd\n",
    "FPlhhgPvThGFJndnnCCnJzzdCp\n",
    "qrTfmllGvfvGqwNMMMsffsQsNh\n",
    "NsmFqNlmnQRbCFsmJgSffpPcbvSfrVvpgS\n",
    "LhZGDZhhwtDHMwDdHGhDjDpTzzPdzgTvcPvpSSpPrdrv\n",
    "jgHMjBLhwtZMHMHmJNNJNFlBqlBJNn\n",
    "bznSQggscgMcSTTfJbSQzQFwClMhmCmthClvMwFLwhZL\n",
    "BRWBPBVVPjPNVHpVqlqrvtwFqmmLqltZmL\n",
    "WDVddNHNvRgccgsDsgbT\n",
    "sNgnQLtLLLPPnsPpqdqjBclpGWjcWjBG\n",
    "rVCChSZhVrrwqVDVHSHmMjldGfJGfHddJGJlfGjGJj\n",
    "CVZmDvZCmmhFVVrCgTNbbnQFgbsqNqNQ\n",
    "WmMmSSfJNRRPfJRMRMtllCgdStgbgttgCdDd\n",
    "QGBrvzwBczlgqCtDbvDq\n",
    "QQpBGFrLQjQzGVVRNjPmNNWMbW\n",
    "gGljnJhnJtllpNVCHWcccdTdjdmB\n",
    "bLfSQDSMSHmBnwCB\n",
    "LFMDrbFfFQZQRzLZnbgtlsRGtltpgNhgPpPG\n",
    "cRThZZchCThtgTRhZTRtjWFjWNwqCjGmwFjqqffC\n",
    "DPDPGzPMHDbrpqjfwrjqmjmp\n",
    "JVHHDdVdVbvGMdnVdQVdDbHcRZllhRtgStRLThRSTcBTvc\n",
    "lQWPSBrrPZGgPglGssDfHnWsfDFHHvHh\n",
    "TDCqpttptJNLtwNpbwTqzqHshsvsMMFnmHMNfssmvmvf\n",
    "JCjqVpDtrBjQjrlj\n",
    "wFGWGpFLvCczNSWWsz\n",
    "tlfgtftjlbtHHlDBsBzmQQnsQDQsCn\n",
    "gjfrsVqVgPlfqhvLdvdwZhGq\n",
    "pHpZHBSvRvRCBBZCTMngRnWndnRmWcgg\n",
    "jsfrfrjJFDwDDMMggMCGWGcfmG\n",
    "qbCszCjtCjQsQrtZVBHBHvBvqLZvlp\n",
    "scFzsPScNgNPNgQzpttlCBCwpLrMLCrDdljLwq\n",
    "TjfGZZjVwMZwMLwr\n",
    "vnGbWTvTmFRjQFQPsb\n",
    "bVLrzqrzJVgJbbtVrWJVgppcBCzBvdzwBCCBHDcBvc\n",
    "hflPQnMQmQSRlQMPNRTHwwHHHqpHpdfwdBCp\n",
    "hFhZMhqSNMNbrZgWWGWJjZ\n",
    "NJsgNjJlMHQrwnRgSRPwrP\n",
    "tqpQtTFpFvbGpzTTWSrnSbrhwChCnRfrCf\n",
    "GtcvGqQpttzcqdFzWppDsZMJjBBsBJcBNmBjMsLJ\n",
    "lGfZGZhFfhdSWqmFFWSS\n",
    "wDRDPLcDnjtWbSmqrSCSLC\n",
    "MPwmtVnVMjztznHPgQhQfJfvvHHGggQZ\n",
    "llTspLllCHmLHHndldqHdlLQQPSBQczZSFDDQZSNGcGG\n",
    "jMhwvVrRjbRhFBZNGPcGNN\n",
    "wVtrrtRwrfrwftjVjwWvMrRpsqsnsHsBglslCmTsdWdHTd\n",
    "vPvmTGgDPRvGpDPGPqGHQnWJQJMBBzJBlBQWlHWl\n",
    "bfbwNsmwFdLjbfrrLsSfLNQtMllznBzJQZMQtMlZZnnF\n",
    "frssSscssNfScCjfSCwjsDmRDpGmDRDvvvVcvRDvRp\n",
    "LtlPZPjBTbWsWJVJVzdT\n",
    "nnprqhrqmzfrSrphqfCChVVGVDJWgSHHWgWsRDVHWd\n",
    "nrmppNqhcCrfMchcMCncqbzPZvlvlwbBNjPjtNjZjL\n",
    "FPWsFdSspVbbbtWVvl\n",
    "CCHnnfHHvCwtVMhzlzDllC\n",
    "LrGnjGfgfvcwfgrLrBjrBLgwdBTSRBFsRZdRsSqFFSFSSPPp\n",
    "whGCLqsrjgGhhGFqrCCFGCGzTRTZJcNnzlLTnznNHcnzTH\n",
    "ddvVmbfvdvVbDVQdvvdSzpNcnJzlzSRHNJpnJcSc\n",
    "BPdvfQdWtPDDPfDvDQVVPmbhssCGGMqgFCFMqGMWgMjrRw\n",
    "PSLbGmWPSPLQbMTPWGFWltthdDdrmBDHhdDdczzDRh\n",
    "VfCngVfgsZwCftrZdhcZrdNDzz\n",
    "CjVJJJqnJwQhWPPLQlGj\n",
    "ntnnQmTQTQGVWGNGNNlClG\n",
    "jDffjMSvqjHzHHzwNVwNVcCddPVNdD\n",
    "ZszJsrrZMjsHqqvZJLRQCbTRQbJmThbt\n",
    "BgLHgFDsJNWgQgflWd\n",
    "mnVVcCHnCGRcVnZSjmlthftMQddlfhQctNfW\n",
    "qbSGqmHSTFprvpvTTL\n",
    "dvdTMvvpdLpTcSLvdLLMmhfFBftwCNhRwRNjtCTRCf\n",
    "lshQWgsgrHHqlFfRqFjRFfFwCB\n",
    "rsgHQbJbrsGHHlgQHgJrlHrPZdhdpMZGDSDpdPLcZhdvhZ\n",
    "\";"
   ]
  },
  {
   "cell_type": "markdown",
   "metadata": {},
   "source": [
    "\n",
    "The first rucksack contains the items vJrwpWtwJgWrhcsFMMfFFhFp, which means its first compartment contains the items vJrwpWtwJgWr, while the second compartment contains the items hcsFMMfFFhFp. The only item type that appears in both compartments is lowercase p.\n",
    "The second rucksack's compartments contain jqHRNqRjqzjGDLGL and rsFMfFZSrLrFZsSL. The only item type that appears in both compartments is uppercase L.\n",
    "The third rucksack's compartments contain PmmdzqPrV and vPwwTWBwg; the only common item type is uppercase P.\n",
    "The fourth rucksack's compartments only share item type v.\n",
    "The fifth rucksack's compartments only share item type t.\n",
    "The sixth rucksack's compartments only share item type s.\n",
    "To help prioritize item rearrangement, every item type can be converted to a priority:\n",
    "\n",
    "Lowercase item types a through z have priorities 1 through 26.\n",
    "Uppercase item types A through Z have priorities 27 through 52.\n",
    "In the above example, the priority of the item type that appears in both compartments of each rucksack is 16 (p), 38 (L), 42 (P), 22 (v), 20 (t), and 19 (s); the sum of these is 157.\n",
    "\n",
    "Find the item type that appears in both compartments of each rucksack. What is the sum of the priorities of those item types?\n",
    "\n"
   ]
  },
  {
   "cell_type": "code",
   "execution_count": 11,
   "metadata": {
    "dotnet_interactive": {
     "language": "csharp"
    },
    "vscode": {
     "languageId": "dotnet-interactive.csharp"
    }
   },
   "outputs": [
    {
     "data": {
      "text/html": [
       "<table><thead><tr><th><i>index</i></th><th>Contents</th><th>FirstCompartment</th><th>SecondCompartment</th></tr></thead><tbody><tr><td>0</td><td><div class=\"dni-plaintext\">[ d, W, l, h, c, D, H, F, v, C, f, q ]</div></td><td><div class=\"dni-plaintext\">[ d, W, l, h, c, D, H ]</div></td><td><div class=\"dni-plaintext\">[ F, v, D, C, f, q ]</div></td></tr><tr><td>1</td><td><div class=\"dni-plaintext\">[ m, G, d, Z, B, w, R, j, M, F, g, v, T, t ]</div></td><td><div class=\"dni-plaintext\">[ m, G, d, Z, B, w, R, j ]</div></td><td><div class=\"dni-plaintext\">[ Z, M, F, g, v, T, t ]</div></td></tr><tr><td>2</td><td><div class=\"dni-plaintext\">[ j, w, J, r, z, d, G, S, b, n, N, l, W, c, H, P, h ]</div></td><td><div class=\"dni-plaintext\">[ j, w, J, r, z, d, G, S, b ]</div></td><td><div class=\"dni-plaintext\">[ n, N, l, z, W, c, H, P, h ]</div></td></tr><tr><td>3</td><td><div class=\"dni-plaintext\">[ c, z, b, M, B, s, h, D, T, P, G, j, t, v, l ]</div></td><td><div class=\"dni-plaintext\">[ c, z, b, M, B, s, h, D ]</div></td><td><div class=\"dni-plaintext\">[ B, T, P, G, j, t, v, l ]</div></td></tr><tr><td>4</td><td><div class=\"dni-plaintext\">[ L, q, J, f, p, w, d, n, v, Q, R, G, j, t ]</div></td><td><div class=\"dni-plaintext\">[ L, q, J, f, p, w, d, n ]</div></td><td><div class=\"dni-plaintext\">[ v, Q, L, R, G, j, t ]</div></td></tr><tr><td>5</td><td><div class=\"dni-plaintext\">[ g, S, n, J, C, G, p, r, w, f, h, c, m, H, z, D, b, M ]</div></td><td><div class=\"dni-plaintext\">[ g, S, n, J, C, G, p, r, w, f ]</div></td><td><div class=\"dni-plaintext\">[ h, c, m, H, z, r, D, b, M ]</div></td></tr><tr><td>6</td><td><div class=\"dni-plaintext\">[ b, V, j, s, t, C, S, L, r, n, M, p, d, c, q, H, R ]</div></td><td><div class=\"dni-plaintext\">[ b, V, j, s, t, C, S, L, r ]</div></td><td><div class=\"dni-plaintext\">[ n, M, p, d, c, L, q, H, R ]</div></td></tr><tr><td>7</td><td><div class=\"dni-plaintext\">[ w, P, Z, J, Q, t, B, f, m, g, T, c, p, d, n, H, M, G ]</div></td><td><div class=\"dni-plaintext\">[ w, P, Z, J, Q, t, B, f, m, g ]</div></td><td><div class=\"dni-plaintext\">[ T, c, p, d, n, f, H, M, G ]</div></td></tr><tr><td>8</td><td><div class=\"dni-plaintext\">[ g, m, F, J, z, w, P, t, s, v, N, h, C ]</div></td><td><div class=\"dni-plaintext\">[ g, m, F, J, z, w, P ]</div></td><td><div class=\"dni-plaintext\">[ t, s, z, v, N, h, C ]</div></td></tr><tr><td>9</td><td><div class=\"dni-plaintext\">[ D, m, j, Z, M, W, q, G, R, p, H, L, T, N, P, f, C, Q, J, l ... (1 more) ]</div></td><td><div class=\"dni-plaintext\">[ D, m, j, Z, M, W, q, G, R, p, H ]</div></td><td><div class=\"dni-plaintext\">[ L, T, N, P, f, C, Q, J, H, l, c ]</div></td></tr><tr><td>10</td><td><div class=\"dni-plaintext\">[ F, t, z, f, v, r, w, V, g, B, L, J, N, c, l, T, Q ]</div></td><td><div class=\"dni-plaintext\">[ F, t, z, f, v, r, w, V, g ]</div></td><td><div class=\"dni-plaintext\">[ B, L, J, N, c, l, T, V, Q ]</div></td></tr><tr><td>11</td><td><div class=\"dni-plaintext\">[ v, g, s, d, b, z, r, w, t, q, W, f, R, p, Z, D ]</div></td><td><div class=\"dni-plaintext\">[ v, g, s, d, b, z, r, w, t ]</div></td><td><div class=\"dni-plaintext\">[ q, W, f, R, p, Z, D, d ]</div></td></tr><tr><td>12</td><td><div class=\"dni-plaintext\">[ r, J, h, q, R, L, H, d, c, Q, f, G, P, s, t, g, l, W, M ]</div></td><td><div class=\"dni-plaintext\">[ r, J, h, q, R, L, H, d, c, Q ]</div></td><td><div class=\"dni-plaintext\">[ f, Q, G, P, s, t, g, l, W, M ]</div></td></tr><tr><td>13</td><td><div class=\"dni-plaintext\">[ D, z, C, p, m, n, N, B, Z, V, G, P, f, s, b, g, l, w, M, W ... (1 more) ]</div></td><td><div class=\"dni-plaintext\">[ D, z, C, p, m, n, N, B, Z, V ]</div></td><td><div class=\"dni-plaintext\">[ G, P, f, s, b, g, l, N, w, M, W, t ]</div></td></tr><tr><td>14</td><td><div class=\"dni-plaintext\">[ B, Z, F, n, l, m, p, z, D, V, h, H, r, c, R, q, T, d ]</div></td><td><div class=\"dni-plaintext\">[ B, Z, F, n, l, m, p, z, D, V ]</div></td><td><div class=\"dni-plaintext\">[ h, F, H, r, c, R, q, T, d ]</div></td></tr><tr><td>15</td><td><div class=\"dni-plaintext\">[ D, W, C, F, N, q, d, G, P, V, c, b ]</div></td><td><div class=\"dni-plaintext\">[ D, W, C, F, N, q ]</div></td><td><div class=\"dni-plaintext\">[ d, G, F, P, V, c, b ]</div></td></tr><tr><td>16</td><td><div class=\"dni-plaintext\">[ H, l, t, Q, s, T, R, J, b, r, h, d, m, P, L, V, c, n, v ]</div></td><td><div class=\"dni-plaintext\">[ H, l, t, Q, s, T, R, J, b, r, h ]</div></td><td><div class=\"dni-plaintext\">[ d, m, P, L, V, c, T, n, v ]</div></td></tr><tr><td>17</td><td><div class=\"dni-plaintext\">[ H, S, l, s, t, g, J, h, R, r, z, N, B, D, w, M, j, Z, b ]</div></td><td><div class=\"dni-plaintext\">[ H, S, l, s, t, g, J, h, R, r ]</div></td><td><div class=\"dni-plaintext\">[ z, N, B, D, S, w, M, j, Z, b ]</div></td></tr><tr><td>18</td><td><div class=\"dni-plaintext\">[ d, z, G, S, H, C, W, s, V, D, g, J, p, Q, q, L, T, R, m ]</div></td><td><div class=\"dni-plaintext\">[ d, z, G, S, H, C, W, s, V, D ]</div></td><td><div class=\"dni-plaintext\">[ g, J, D, p, Q, q, L, T, R, m ]</div></td></tr><tr><td>19</td><td><div class=\"dni-plaintext\">[ B, v, N, j, M, P, Z, t, l, h, L, Q, q, C, J, p, m, T, R, g ]</div></td><td><div class=\"dni-plaintext\">[ B, v, N, j, M, P, Z, t, l, h ]</div></td><td><div class=\"dni-plaintext\">[ L, Q, q, C, J, p, m, h, T, R, g ]</div></td></tr><tr><td colspan=\"4\"><i>... (more)</i></td></tr></tbody></table>"
      ]
     },
     "metadata": {},
     "output_type": "display_data"
    }
   ],
   "source": [
    "\n",
    "var inputParsed = input.Split(Environment.NewLine, StringSplitOptions.TrimEntries)\n",
    ".SkipWhile(s => string.IsNullOrWhiteSpace(s))\n",
    ".Reverse()\n",
    ".SkipWhile(s => string.IsNullOrWhiteSpace(s))\n",
    ".Reverse();\n",
    "\n",
    "record Rucksack\n",
    "{\n",
    "    public HashSet<char> Contents;\n",
    "    public HashSet<char> FirstCompartment;\n",
    "    public HashSet<char> SecondCompartment;\n",
    "\n",
    "    public Rucksack(string encoded)\n",
    "    {\n",
    "        Contents = new(encoded);\n",
    "        FirstCompartment = new(encoded.Substring(0,encoded.Length/2));\n",
    "        SecondCompartment = new(encoded.Substring(encoded.Length/2,encoded.Length/2));\n",
    "    }\n",
    "\n",
    "    public override string ToString() => $\"1={string.Join(null,FirstCompartment)}, 2={string.Join(null,SecondCompartment)}\";\n",
    "}\n",
    "\n",
    "var rucksacks = inputParsed.Select(s => new Rucksack(s));\n",
    "\n",
    "\n",
    "display(rucksacks);"
   ]
  },
  {
   "cell_type": "code",
   "execution_count": 12,
   "metadata": {
    "dotnet_interactive": {
     "language": "csharp"
    },
    "vscode": {
     "languageId": "dotnet-interactive.csharp"
    }
   },
   "outputs": [
    {
     "data": {
      "text/html": [
       "<table><thead><tr><th><i>index</i></th><th>value</th></tr></thead><tbody><tr><td>0</td><td><div class=\"dni-plaintext\">D</div></td></tr><tr><td>1</td><td><div class=\"dni-plaintext\">Z</div></td></tr><tr><td>2</td><td><div class=\"dni-plaintext\">z</div></td></tr><tr><td>3</td><td><div class=\"dni-plaintext\">B</div></td></tr><tr><td>4</td><td><div class=\"dni-plaintext\">L</div></td></tr><tr><td>5</td><td><div class=\"dni-plaintext\">r</div></td></tr><tr><td>6</td><td><div class=\"dni-plaintext\">L</div></td></tr><tr><td>7</td><td><div class=\"dni-plaintext\">f</div></td></tr><tr><td>8</td><td><div class=\"dni-plaintext\">z</div></td></tr><tr><td>9</td><td><div class=\"dni-plaintext\">H</div></td></tr><tr><td>10</td><td><div class=\"dni-plaintext\">V</div></td></tr><tr><td>11</td><td><div class=\"dni-plaintext\">d</div></td></tr><tr><td>12</td><td><div class=\"dni-plaintext\">Q</div></td></tr><tr><td>13</td><td><div class=\"dni-plaintext\">N</div></td></tr><tr><td>14</td><td><div class=\"dni-plaintext\">F</div></td></tr><tr><td>15</td><td><div class=\"dni-plaintext\">F</div></td></tr><tr><td>16</td><td><div class=\"dni-plaintext\">T</div></td></tr><tr><td>17</td><td><div class=\"dni-plaintext\">S</div></td></tr><tr><td>18</td><td><div class=\"dni-plaintext\">D</div></td></tr><tr><td>19</td><td><div class=\"dni-plaintext\">h</div></td></tr><tr><td colspan=\"2\"><i>... (more)</i></td></tr></tbody></table>"
      ]
     },
     "metadata": {},
     "output_type": "display_data"
    }
   ],
   "source": [
    "var itemInBoth = rucksacks.Select(r => r.FirstCompartment.Intersect(r.SecondCompartment).Single());\n",
    "\n",
    "display(itemInBoth);"
   ]
  },
  {
   "cell_type": "code",
   "execution_count": 13,
   "metadata": {
    "dotnet_interactive": {
     "language": "csharp"
    },
    "vscode": {
     "languageId": "dotnet-interactive.csharp"
    }
   },
   "outputs": [
    {
     "data": {
      "text/plain": [
       "Day 3 Part 1 : 8105"
      ]
     },
     "metadata": {},
     "output_type": "display_data"
    }
   ],
   "source": [
    "\n",
    "int PriorityValue(char c) => c switch {\n",
    "    var x when x >= 'a' && x <= 'z' => (int)(x) - (int)('a') + 1,\n",
    "    var x when x >= 'A' && x <= 'Z' => (int)(x) - (int)('A') + 27,\n",
    "};\n",
    "\n",
    "var priorities = itemInBoth.Sum( item => PriorityValue(item));\n",
    "\n",
    "display($\"Day 3 Part 1 : {priorities}\");"
   ]
  },
  {
   "cell_type": "markdown",
   "metadata": {},
   "source": [
    "-- Part Two ---\n",
    "As you finish identifying the misplaced items, the Elves come to you with another issue.\n",
    "\n",
    "For safety, the Elves are divided into groups of three. Every Elf carries a badge that identifies their group. For efficiency, within each group of three Elves, the badge is the only item type carried by all three Elves. That is, if a group's badge is item type B, then all three Elves will have item type B somewhere in their rucksack, and at most two of the Elves will be carrying any other item type.\n",
    "\n",
    "The problem is that someone forgot to put this year's updated authenticity sticker on the badges. All of the badges need to be pulled out of the rucksacks so the new authenticity stickers can be attached.\n",
    "\n",
    "Additionally, nobody wrote down which item type corresponds to each group's badges. The only way to tell which item type is the right one is by finding the one item type that is common between all three Elves in each group.\n",
    "\n",
    "Every set of three lines in your list corresponds to a single group, but each group can have a different badge item type. So, in the above example, the first group's rucksacks are the first three lines:\n",
    "\n",
    "vJrwpWtwJgWrhcsFMMfFFhFp\n",
    "jqHRNqRjqzjGDLGLrsFMfFZSrLrFZsSL\n",
    "PmmdzqPrVvPwwTWBwg\n",
    "And the second group's rucksacks are the next three lines:\n",
    "\n",
    "wMqvLMZHhHMvwLHjbvcjnnSBnvTQFn\n",
    "ttgJtRGJQctTZtZT\n",
    "CrZsJsPPZsGzwwsLwLmpwMDw\n",
    "In the first group, the only item type that appears in all three rucksacks is lowercase r; this must be their badges. In the second group, their badge item type must be Z.\n",
    "\n",
    "Priorities for these items must still be found to organize the sticker attachment efforts: here, they are 18 (r) for the first group and 52 (Z) for the second group. The sum of these is 70.\n",
    "\n",
    "Find the item type that corresponds to the badges of each three-Elf group. What is the sum of the priorities of those item types?\n",
    "\n"
   ]
  },
  {
   "cell_type": "code",
   "execution_count": 14,
   "metadata": {
    "dotnet_interactive": {
     "language": "csharp"
    },
    "vscode": {
     "languageId": "dotnet-interactive.csharp"
    }
   },
   "outputs": [
    {
     "data": {
      "text/html": [
       "<table><thead><tr><th><i>index</i></th><th>value</th></tr></thead><tbody><tr><td>0</td><td><div class=\"dni-plaintext\">d</div></td></tr><tr><td>1</td><td><div class=\"dni-plaintext\">G</div></td></tr><tr><td>2</td><td><div class=\"dni-plaintext\">t</div></td></tr><tr><td>3</td><td><div class=\"dni-plaintext\">f</div></td></tr><tr><td>4</td><td><div class=\"dni-plaintext\">l</div></td></tr><tr><td>5</td><td><div class=\"dni-plaintext\">b</div></td></tr><tr><td>6</td><td><div class=\"dni-plaintext\">C</div></td></tr><tr><td>7</td><td><div class=\"dni-plaintext\">J</div></td></tr><tr><td>8</td><td><div class=\"dni-plaintext\">C</div></td></tr><tr><td>9</td><td><div class=\"dni-plaintext\">M</div></td></tr><tr><td>10</td><td><div class=\"dni-plaintext\">n</div></td></tr><tr><td>11</td><td><div class=\"dni-plaintext\">B</div></td></tr><tr><td>12</td><td><div class=\"dni-plaintext\">s</div></td></tr><tr><td>13</td><td><div class=\"dni-plaintext\">Z</div></td></tr><tr><td>14</td><td><div class=\"dni-plaintext\">C</div></td></tr><tr><td>15</td><td><div class=\"dni-plaintext\">t</div></td></tr><tr><td>16</td><td><div class=\"dni-plaintext\">b</div></td></tr><tr><td>17</td><td><div class=\"dni-plaintext\">S</div></td></tr><tr><td>18</td><td><div class=\"dni-plaintext\">R</div></td></tr><tr><td>19</td><td><div class=\"dni-plaintext\">n</div></td></tr><tr><td colspan=\"2\"><i>... (more)</i></td></tr></tbody></table>"
      ]
     },
     "metadata": {},
     "output_type": "display_data"
    }
   ],
   "source": [
    "var groups = rucksacks.Chunk(3);\n",
    "\n",
    "var badges = groups.Select(g => g.ToArray())\n",
    "    .Select(g => g[0].Contents.Intersect(g[1].Contents).Intersect(g[2].Contents).Single());\n",
    "    \n",
    "display(badges);\n"
   ]
  },
  {
   "cell_type": "code",
   "execution_count": 15,
   "metadata": {
    "dotnet_interactive": {
     "language": "csharp"
    },
    "vscode": {
     "languageId": "dotnet-interactive.csharp"
    }
   },
   "outputs": [
    {
     "data": {
      "text/plain": [
       "Day 3 Part 2 : 2363"
      ]
     },
     "metadata": {},
     "output_type": "display_data"
    }
   ],
   "source": [
    "\n",
    "var badgeSum = badges.Sum( item => PriorityValue(item));\n",
    "\n",
    "display($\"Day 3 Part 2 : {badgeSum}\");"
   ]
  }
 ],
 "metadata": {
  "kernelspec": {
   "display_name": ".NET (C#)",
   "language": "C#",
   "name": ".net-csharp"
  },
  "language_info": {
   "file_extension": ".cs",
   "mimetype": "text/x-csharp",
   "name": "C#",
   "pygments_lexer": "csharp",
   "version": "9.0"
  },
  "orig_nbformat": 4
 },
 "nbformat": 4,
 "nbformat_minor": 2
}
