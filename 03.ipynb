{
 "cells": [
  {
   "cell_type": "markdown",
   "metadata": {
    "dotnet_interactive": {
     "language": "csharp"
    }
   },
   "source": [
    "--- Day 3: Rucksack Reorganization ---\n",
    "One Elf has the important job of loading all of the rucksacks with supplies for the jungle journey. Unfortunately, that Elf didn't quite follow the packing instructions, and so a few items now need to be rearranged.\n",
    "\n",
    "Each rucksack has two large compartments. All items of a given type are meant to go into exactly one of the two compartments. The Elf that did the packing failed to follow this rule for exactly one item type per rucksack.\n",
    "\n",
    "The Elves have made a list of all of the items currently in each rucksack (your puzzle input), but they need your help finding the errors. Every item type is identified by a single lowercase or uppercase letter (that is, a and A refer to different types of items).\n",
    "\n",
    "The list of items for each rucksack is given as characters all on a single line. A given rucksack always has the same number of items in each of its two compartments, so the first half of the characters represent items in the first compartment, while the second half of the characters represent items in the second compartment.\n",
    "\n",
    "For example, suppose you have the following list of contents from six rucksacks:\n",
    "\n"
   ]
  },
  {
   "cell_type": "code",
   "execution_count": 24,
   "metadata": {
    "dotnet_interactive": {
     "language": "csharp"
    },
    "vscode": {
     "languageId": "dotnet-interactive.csharp"
    }
   },
   "outputs": [],
   "source": [
    "var testInput = @\"\n",
    "vJrwpWtwJgWrhcsFMMfFFhFp\n",
    "jqHRNqRjqzjGDLGLrsFMfFZSrLrFZsSL\n",
    "PmmdzqPrVvPwwTWBwg\n",
    "wMqvLMZHhHMvwLHjbvcjnnSBnvTQFn\n",
    "ttgJtRGJQctTZtZT\n",
    "CrZsJsPPZsGzwwsLwLmpwMDw\n",
    "\";\n",
    "\n",
    "var input = @\"\n",
    "dWlhclDHdFvDCCDfFq\n",
    "mGdZBZBwRGjZMFgvTvgtvv\n",
    "jwwJrzdzGdSbGGnNlzWczHzPHPhn\n",
    "cczcbMBszhzzDBTBPPPGjtvtlt\n",
    "LqJLfpwdLnvQLRGQjGtj\n",
    "gSgnSJJCGSGpGSrwgfhchmmmHzcrHDmbrmMm\n",
    "bVjstCsSstCLCrbSLnMpdMndcLddcqcpHR\n",
    "wPZJQJwtBfJZmgBwPTcpTdcnfHMppcGMdG\n",
    "gmFJzwPJJtszvNhCNC\n",
    "DmjZDMZWDqGRqqRpHmmRLTTNTPTfCQJQQLJHTClc\n",
    "FtzfvrfFwVgtzztgBLJNcNlTcTVNNQLN\n",
    "vgsdbzzrwtqWfWRpZDdZ\n",
    "rJhqRhLHhdcQqdHqfQGfPGstgGPlWttM\n",
    "DzCpDDmnNCmBZBZnVBmZzBGPfsbglfNPwgPGPMWsWWft\n",
    "BZFnlmpBpBzDzVZmhFHFrrrchhRqTdrc\n",
    "DWCCWFNqdGFdPVcb\n",
    "HllttQsTRlJlsblrHlhdmPLVcVcTccndLvPLmL\n",
    "HSlstHgJltghhRrzNBNDzSwMjNZwNb\n",
    "dzGSHCWSsGVVSdHVHHWWVVDCgJDpQqLTTRJpgmTLRmJTTpTR\n",
    "BvNjMPZMBtBBMvvNMNttlhLQqCJpLmhTRQqQJgRJLQQg\n",
    "llNncBlMCwwMnwPZrGsVHzcfFGdHGFGs\n",
    "JfZhphMMQmFzDTDjSdrQjQ\n",
    "sqHCbCwBVtbqbCqtrWdjzlSJTlrTSWBn\n",
    "bHcwbGCGRssNscwtHNbwvmRFvpFFJFvLZMmPLFfv\n",
    "qBCrzznVmDCmMMDNgrgcrvHHcgbQcW\n",
    "TTTsdJRTRhhlsgbvbdCFdbWvbQ\n",
    "JhGGlfRlJsnCMDMqjmfV\n",
    "rqLLvDLtStDLQhQDQrQhhNdsmWdmmjjnssPnTMnTzfTsWT\n",
    "ZRFFpgCgppcBcnjTsjTMTfPFMP\n",
    "GCZpGlwJwBgGHcJhSSHLDDrNqrMtNq\n",
    "FsPFqsDNZFNnZrcBmWfWWQ\n",
    "lSnRlRTvgrWtctTmft\n",
    "SMbGbbvnGlnSDwGqLwNCqNVD\n",
    "dPQDcBwJJDgDTPgGgQTBVjSsmLhLTrLmjSLpjSLh\n",
    "MvvZRHtMtbCNvCNCNtNvbRfBSMSrjmLpjnjmVhrVSLsnnmSh\n",
    "qHZtbBZfRztbHbCzNRHPQgJPJgGgglFPPFqdQD\n",
    "MsBsVDspRPfPlhMl\n",
    "zWnCFzHbSCwqNmPSjmGlsmfN\n",
    "FnHnFbFzsHHCCgzCzbBptVppgvvVgVrpBrJt\n",
    "pTLntptZjQLfVDjQTDlVJCSWNCPSCCsSNmFlNslm\n",
    "BBHbqGHHqgwSWSCCWwZWWZ\n",
    "qRzbhhbzzrHdRRHhRHvzZjfrVTrppVQttDfcQTfp\n",
    "DHsdHPHHsHMsRmhMZZQBtljgZGtC\n",
    "NFnCbFznLVJbVrjhQthjGBLZBjGL\n",
    "wNrfFJJbCpNnfbdwDSDHsvsHmsmH\n",
    "jLZRjnMMjJhJnvtQbdHfHZbvHQ\n",
    "mBzwptCWlcFCwsHSTpQfQHQfrpTb\n",
    "mNltzmsCNmFzGwCBllGRgRgqjgLMnGqjnPjV\n",
    "ZqqcqmVVtbcBMFfFMcQfgphJ\n",
    "HLWLDvWjjLwTWzzvGLThQQshQllgJDJgfbffJQ\n",
    "vHzLvrwwzGzTRGzzLLRPRwRdSVdnBBdSbBSVStbNmnrmZS\n",
    "TWVVvPSgwWSqcRgRwbRRcqshsfFzzzChTGNHzHhhhCsG\n",
    "njZrjMLlpmDmGfSGtrNttzCF\n",
    "ZQBmZdDBZRRPRSBgcb\n",
    "TpntvdpnZDptnbnTDGtSFSlFmzCzzmSFRjqlZj\n",
    "MWrNcWRMlgqzMjzq\n",
    "NPwsPNrBNcVHNNcJHBNBcJwwttDvGVnDptVRtbnTtGvVGtGG\n",
    "tsbbvvSfnqvzQLLBjfMLdd\n",
    "gJRmRNmJNchgmmrFJhFgWJQMwBnjwrMBVQwQTBdLdVQj\n",
    "GcGpGGRGJgqstvpbnCqb\n",
    "rsHcrbZHBTTtLtNSwwHLLJ\n",
    "mFqhWVsjsVCjQlNJGMwMlMMGMh\n",
    "QggzffQRCfgVFWzzCQffqfZpZDcRvTTBTvvZnsdnddcn\n",
    "bPFMFFBpMlFfMZMpHGNSrNctJcPSSchJchPt\n",
    "zCgwnmgzQDnQgdWWQRgqSrqLSqSgssLNJhgJ\n",
    "rQCQQTrRRmDBFfbHBFHZbT\n",
    "fzfPQsGrrMMjtHtBHs\n",
    "SwNNDqwhWpVTwbDGGDmwSVhZRZHdbCtgBjCRjMtbBHtRMd\n",
    "vVTGvVGNvPPvQvfncJ\n",
    "cwzMJbclHDPqfJQPfq\n",
    "rrqjjTBrqqBjRCgTjrRjNrsGPDhDFGCfWGfPFfFPGWfD\n",
    "BZTTSTZgjbSwVptvpq\n",
    "PPPPJpvpJsJwPHHPsJdTNZRZZZjTFFmRRRNjZd\n",
    "qbWVfChDCDnVVDGfnSFNNjRLmNfBNLQjLjmBRm\n",
    "DhFDhbnWCDhGcbJPPwrsrMwrvlvc\n",
    "lFSDTwHTSwlTNwFFlwNcFFpjLZvZqvnqLPnnWbgngbbncqbZ\n",
    "rzQfMzRGrRGJCffBMGdGsJZWWnqWVqdPPgNvvVZWPWWn\n",
    "RJrttBtNQCsNzTpShhHFDwFlth\n",
    "QNzQFjNFrQPNbmPpqTTDGswWmB\n",
    "ggHRcSlcCVCSzMVqDGwgqTWpsmqwqG\n",
    "cltzCZtLClHRRtMZZLQjfNvtrJfhvrddvNNd\n",
    "mcfWHffBFnQRQlTFdv\n",
    "wssSLVbbzDVbzbggzSzNshNMnvnljRdvQRlMBjvQdnCj\n",
    "bhDzVSSJDDJhDLBwtbDzzbbWppfpcmWGmprqqGtqprcHPp\n",
    "rpVFrZpgHWSZrFPqhzwcqPwmcVBD\n",
    "vMTnQJjQLCbljvvQzTMbTjPNdBLwwDhmhNNqPwmmhhBh\n",
    "jvGjjQJnrspGHgFz\n",
    "sjssjtZlcphZHwWvcrHTwWJH\n",
    "qDdzzrFNNNDGdFDzzVBVVvfWJPfgPmgWPgvwVH\n",
    "nqMQGDrnLGnqqLNqjtCZZjsMhZhCMbtl\n",
    "JJJsLFmzsrFlSpzPscjgHhnRnmvcjqRvvj\n",
    "fCMQbCbTjjqTGhjc\n",
    "bfdbWdCddfBbtCfbfbqVWQQpPlBrJLJJSSLwppFssFzLzp\n",
    "pdbbzlffWtJbgQwhcphQcCCg\n",
    "vHvLFvVLvSfFRLnRFRNHjPjggcssQcjjsnwhsPCC\n",
    "vGVGGFFVHLTvDRHDmBbTzfZWMdJZlfMm\n",
    "wjCbjQgjTQhNNzgWQCWrDFMZmZDZDCrrMDpLpL\n",
    "czGSPznnRGGJGGlVVRVBGGlBmDDcMDFDDZLqfffZFrrZqFpZ\n",
    "JPGlvBSJHVGnVsjvQjjzwdwjzd\n",
    "MFlWQHDTpnpsFNNQllWFWlhzjGgrgDzGGhGGjvmZDZrh\n",
    "PtTPcTLbBCVPTRVcvhjmmhVhSZGGgvZg\n",
    "JLPfCwPbTbBPJCfblplMpqWsMpMwWHQn\n",
    "QbHVBBzWtzHBNtBwQSgqhqSbFgRLjhmqqj\n",
    "ZnCnMcdsDnJTncggFJwRmSwgRFmL\n",
    "sTMZpGDvsZcMpcvTCPHwzrfzrpzHpWBrWz\n",
    "PMdJWwJWHFWJnNzbDlfbCfMvbl\n",
    "rZgttrFptFFcBtccbbCDvgfbGCGGgGDz\n",
    "QsZBmsrFscrVrjQJjJQRJWWLwq\n",
    "GwNNJwwRThwrWfhh\n",
    "SmQqmzsjHssQzCbvsmSSzsQTjWpFTTfFfThchhFTBBfppB\n",
    "mmbHbmtmCzzQZzQRdZJhNMdMlRMglh\n",
    "rrsPbncQvvgnnrTdGDVcCdpZHHZp\n",
    "RwwwhjLLqtJFwjzwtwmwwGpDZVdGDVdZBZDFHdHZCp\n",
    "zhzwLhhfffLtjNChgWbbrbnMvPrMrrfv\n",
    "tQMtQtTSBFtSmQSttMggMtbtnTnPrZvrnzNNTGZvrZZdLdnL\n",
    "HqhwDpDcwlHqpVrrFzvFGpZrrzrP\n",
    "RwlhhjwRCjVfjDbMtFWBWJMgWjWm\n",
    "WpWVlWzsGlBJpspNclNlhhhmgzrdtzQMQttzMmtt\n",
    "RfnPRLTPDHRdPbwvvntnSrFgmvnmtm\n",
    "CwqRDCCwqCwbCTqJcJBNcZqdVcBlpJ\n",
    "tpfnNBsGGNRppRCgfgRRCRQJGMPPWdwMJdWFFwjVzGPJ\n",
    "chLSchLTbLqvqcZLlvvLqbmldMzFFWdzVSFWFMzQVJwjQjdM\n",
    "rLqqcjDrcvhRsDfHDtNNnN\n",
    "DjZjvTTDqrtTZZSMcdRdmRJrcJNc\n",
    "HWgPGVhFPgnSVtnJcdMs\n",
    "FPLfBwCWGPfCwfLHCCDBZlbDpBjvqTtDzzDj\n",
    "FJNqNFgNFssqGGqBsTlMVcgVrCwLwlhcrw\n",
    "fRZzDmDZvvDdZbtdpDZmbrThrLMCvcChwwlSTrvMSr\n",
    "zmfZmtZmpDmbfWRDDZdqFljqnNQjGWnsjFqGsG\n",
    "rMdMWddmJmvdSdmWfWMddpVRqRFVHRRqMRRPQMRqRq\n",
    "tDGtGGhLjLLZNLjjNgNthGtqHTVqRVVpPDRpHHVRQVRPPR\n",
    "ZlLtzNjgsZZlssLgtjNpfWfJvlJrrvCJfBmBfn\n",
    "hqpWvFJsJFNHhqMWNhWvWRmmDcDMLcwZnjcwnjRnjn\n",
    "LdrlgCCrSSTrTnwRjmwRQZwdwG\n",
    "PVlfClrLlLlfggtBPzHHhHFbWzJNbvqJFNqF\n",
    "TbbQtnDtbGGjGlGsGHpJJmFWFJJrBWWFlWrS\n",
    "CZzzNzzhddNchhMhhRVjpCBwBrCvJvpmSCvrwJ\n",
    "fhZZhddRjRgZzMZRzPjPTsLGQtHLTHTbDPQTtqPT\n",
    "nHnWsQNQQWTWQshwjBJJJmHwFBwm\n",
    "VZZpfbffZVvbSbGfBhSwmtmmJlmjJFJJ\n",
    "bpphpMfMvMzDbMGZgQNrrngzdTsNqWdd\n",
    "VPNddVTPPmdnVcPVZcdTmcDbQTFjMpjtFzbMtFjzsFTssT\n",
    "lJCllWCrgvRlgwlJfRRvSzjSjQpbzMHpbwMQpszM\n",
    "fRhGBBJJCgrNLsNPNVVhNq\n",
    "pLrVDgbNbjVplpsltHBqWSqhSQcHDttH\n",
    "MCdCwCGTmnTmmmvTTCwCqNhHQhRWcwHWBRHSqSQH\n",
    "TNTFFPfffTvFTJvTPCPTFfGdzVjspVLZglJbsbZpVblrzjlb\n",
    "cdPzFrldgcdCrnlznPzrBNRssLLBbVNVZsLHRHdm\n",
    "wTQQwvvtqwqcGvTZmVHBbVLLBbRV\n",
    "GWJSGfJWcjQwhQQWjqJhhGfgpMnMzDnpMlPpMnDlMrzl\n",
    "pMhqTTsSpdBPpNBshsdMMTQFvFlQtQWCRQlCllVFqVqG\n",
    "dfcbnmrnjzRFvGQQGvfv\n",
    "mDrjLLLcJjLhpZSSJMdpph\n",
    "NGZNwqFqZhhcFSCfRzwdzRfCzVRw\n",
    "QTTmBTsWQWJPPCvzvpHPzdvVFR\n",
    "bsmWTBbQDbmbLQQMsWWQchgqLqhGGGGZLhSFjhqS\n",
    "HgmGlgsvBBDgBGCdHHvHwCGwhZJWhTjSdhTSFFFhJtSJTJhT\n",
    "RQfVrfQNszMQfpMzpNnfLbtjhtSbWJWFWtFFtFJtFSZq\n",
    "PNzLfnLnBCPHgsgC\n",
    "mTZGgCdNSNmCQLLpPnDhRlGhpV\n",
    "vWJHWFsfHMWBBFbBsjfjHrFfLRRLPPnpLthttRVPLSnhSPbS\n",
    "fzMrBjWfBrzsZCZmSTgQzcNN\n",
    "mgmCZCMgmnZmZgBZpgpJfbQfwSQPDTdfdwSDfwhn\n",
    "sHhcrWLcFlzHcHRNNFvNFcFPwDDTWdddDdqWbSTWDPTTQS\n",
    "RNsslsRrNcRNvNRFFNvVsghZBJtVCCtCtGghjhGBGG\n",
    "gchrcRRdnRwPPnvQ\n",
    "CVCCSrDjFHjVDbBLFGGBSvwnwNMnMsPPNsNPvwPQVM\n",
    "lHLCTHGDCbbjFTTzdWlpcqfgcrdzZg\n",
    "fRDPsDsqqJttttJSzPDgJWQCbQQbGMWCCnGGPVGVQQ\n",
    "rTTBvZhrvBnWWDWCbZWW\n",
    "cwLlTLpjTwBFLLhgfRRfmRqRDmRdjq\n",
    "sprGGPTrJTsGPzszqGzNtTtpfbQddQSQSDFDFvvbZvwFbbfN\n",
    "LWWCMVmwMmgWFQfFDDvZDgdF\n",
    "mlMmRVCWVMmmHRjVCmjHWRhMzpTtlrlPzrtzwlsGPrpwtrJp\n",
    "tsfwwfjfdfrtrClfvwvvLnTHNmvLHcNccRNcvNWH\n",
    "qQSqZqFQRBzghDFncHgmccHNmWcNmM\n",
    "SQJphFJzRDSsdpVlllrCrw\n",
    "vGQqLQFvBvLvdNnvjnvNDc\n",
    "TRJwmWmZWlCCmzznbNhhbDhRgj\n",
    "CCTtDTlmDTWTmDmZZlVLLsFfstfFFLsBLQfF\n",
    "cfWflMmWWlWfPWBhBlQtLmmvrrrvCLjvRTjLLwwr\n",
    "gSgbsbgHdsjzHbqbdVDLZLvTZwLTvSrZrFvZLw\n",
    "sdbJqDNdjJNdsJBpBWpJlMcfcB\n",
    "FHlMHPqDLlPctgHSnttCSC\n",
    "zhrmBrTwJTjBmQcSQvQqbtwGvg\n",
    "jBjmBmJjjjRZTBzhhrBJLDdZqfpDMdfWWlDDLMlV\n",
    "zPVdbsBzZdwqJGhrLTvNNJqH\n",
    "tmmCgCPCDDnptHDjNvGvhrDvLv\n",
    "pRWRlpSpPllClnpbQVQwFFVSQFVBZz\n",
    "nDrCvmvMnMSmsCvblBzzCZplbJlTbZ\n",
    "FNRtFWRfcGqFGQbzlZTQqQTBbd\n",
    "GRwFfNtwFRNFGMvBsnnwMMMBjn\n",
    "LVTBjjlJCDrnJzJNQR\n",
    "GsGGsggGpfhgpchgdqzbMzzhzQRnnMRrNzzR\n",
    "PwWFqFGpwWpdWgfsGggdmjCVHPHlCCCVZNCjVmVj\n",
    "qVTsCWwbCsPlCVfcbvfPDgLzbzDDhrzRrjgZghgr\n",
    "ntmHmNpSQNGtntNttmSdSdBdjrrDLQZQLLhRrFFFRDTFZhDF\n",
    "mtMtBNTSNBpNJStMGSdHppNcVWPsWvqVcsVJfwwqlqWqlc\n",
    "vvWzLvvdpZDvhTpcrLcTTLpdwSPnCfJwCMnQSMwSnCGJrnwr\n",
    "ttHVmVNNsHBBRsHbMMwwnjnjBfjJwCMP\n",
    "tsVllgNVqbRlfplldDvDWT\n",
    "mLjLsQqLQqsBRvvlRBLRlT\n",
    "bhgtDDhCtmptmTTS\n",
    "nfmdbggwGWrfsPzfWq\n",
    "JpWDcSGJpGzsHPSSlbbd\n",
    "wVRqVZwwRwPDwbDddH\n",
    "VtVVVLthLVtVgfQLRTNtqDcCcJBmmWMWWprpFrcBJWNp\n",
    "dhhhDtmLdttdPlslGlRFjfzBBpzzRpGJ\n",
    "QMrVMwbVrrbvVVCrvcnqQQrrSMBJfpjFSzfjJFMFRWSpjjFG\n",
    "cwvbHHbCqVchRDHgDsPTdt\n",
    "CgVNCtDsDtJGZZGqMMGhDq\n",
    "cLRnSHgWcRdLHWSSRLjQdlHBTTPcPwwhzqzTMBPTwhPPwP\n",
    "HnnnglnWWgdRjlmQNsNFmJCFJFvsJsNN\n",
    "hfccLbjhfSRbfDZjFRJzrlvlwwlnnFrWwzqr\n",
    "TCsPLNtQdpdQQVtVNvJNJWlzJzwlrvJl\n",
    "pHtPsPtPtCQfbRHHDHhMLh\n",
    "nWRWgLtWnfTcZNNsscfd\n",
    "JMGzMVJwMVTvzVQFGHMMmPdddsPsCjldlHPcScNPsP\n",
    "vGrMQQmmvTQzMJpghWRWgpbbBqLbLR\n",
    "WSbhFbPTpRfTfPdhpfbhSbfPQLzlQlzlHvtQsvlltlsgHdgQ\n",
    "pZcGJDZNGcVrJwrDrrnvtNvlNzsgtgzvvsgt\n",
    "qmJZZJcBqwrMJcVbWfSPPWpmpjmSCF\n",
    "jHVjjCcpNrDgjsfB\n",
    "ndqllRvJQtqlQQTRWllFNDrsMZBfDBLvNMNDfsbZ\n",
    "qTFnWJqdWRdqWRlnTRnQGnTmwwSHCzpcGNmHNcPVcHGmCz\n",
    "pZCpBhDfvgBVZQGMMVZVlq\n",
    "sLsLTTSssjPnTNbFGRGFPVHqMMRF\n",
    "TsNSccnjLdcsLjdmjWvWvBhfmvWpCGhGhD\n",
    "VWFFFPMpPVSMbTppHTnHTbRH\n",
    "DtvfNdBNddDNSLjsvDTTHnzzHwrTrwsrwqbT\n",
    "dgBLNffdgjjtfBQSvgNjNDlvMcQJmJJmZCMmVVVZFPFcPMGG\n",
    "VWsQLHMVVSNRShWLhNSNLjbbbddbpDZDddcbZdDRztpd\n",
    "FPlhhgPvThGFJndnnCCnJzzdCp\n",
    "qrTfmllGvfvGqwNMMMsffsQsNh\n",
    "NsmFqNlmnQRbCFsmJgSffpPcbvSfrVvpgS\n",
    "LhZGDZhhwtDHMwDdHGhDjDpTzzPdzgTvcPvpSSpPrdrv\n",
    "jgHMjBLhwtZMHMHmJNNJNFlBqlBJNn\n",
    "bznSQggscgMcSTTfJbSQzQFwClMhmCmthClvMwFLwhZL\n",
    "BRWBPBVVPjPNVHpVqlqrvtwFqmmLqltZmL\n",
    "WDVddNHNvRgccgsDsgbT\n",
    "sNgnQLtLLLPPnsPpqdqjBclpGWjcWjBG\n",
    "rVCChSZhVrrwqVDVHSHmMjldGfJGfHddJGJlfGjGJj\n",
    "CVZmDvZCmmhFVVrCgTNbbnQFgbsqNqNQ\n",
    "WmMmSSfJNRRPfJRMRMtllCgdStgbgttgCdDd\n",
    "QGBrvzwBczlgqCtDbvDq\n",
    "QQpBGFrLQjQzGVVRNjPmNNWMbW\n",
    "gGljnJhnJtllpNVCHWcccdTdjdmB\n",
    "bLfSQDSMSHmBnwCB\n",
    "LFMDrbFfFQZQRzLZnbgtlsRGtltpgNhgPpPG\n",
    "cRThZZchCThtgTRhZTRtjWFjWNwqCjGmwFjqqffC\n",
    "DPDPGzPMHDbrpqjfwrjqmjmp\n",
    "JVHHDdVdVbvGMdnVdQVdDbHcRZllhRtgStRLThRSTcBTvc\n",
    "lQWPSBrrPZGgPglGssDfHnWsfDFHHvHh\n",
    "TDCqpttptJNLtwNpbwTqzqHshsvsMMFnmHMNfssmvmvf\n",
    "JCjqVpDtrBjQjrlj\n",
    "wFGWGpFLvCczNSWWsz\n",
    "tlfgtftjlbtHHlDBsBzmQQnsQDQsCn\n",
    "gjfrsVqVgPlfqhvLdvdwZhGq\n",
    "pHpZHBSvRvRCBBZCTMngRnWndnRmWcgg\n",
    "jsfrfrjJFDwDDMMggMCGWGcfmG\n",
    "qbCszCjtCjQsQrtZVBHBHvBvqLZvlp\n",
    "scFzsPScNgNPNgQzpttlCBCwpLrMLCrDdljLwq\n",
    "TjfGZZjVwMZwMLwr\n",
    "vnGbWTvTmFRjQFQPsb\n",
    "bVLrzqrzJVgJbbtVrWJVgppcBCzBvdzwBCCBHDcBvc\n",
    "hflPQnMQmQSRlQMPNRTHwwHHHqpHpdfwdBCp\n",
    "hFhZMhqSNMNbrZgWWGWJjZ\n",
    "NJsgNjJlMHQrwnRgSRPwrP\n",
    "tqpQtTFpFvbGpzTTWSrnSbrhwChCnRfrCf\n",
    "GtcvGqQpttzcqdFzWppDsZMJjBBsBJcBNmBjMsLJ\n",
    "lGfZGZhFfhdSWqmFFWSS\n",
    "wDRDPLcDnjtWbSmqrSCSLC\n",
    "MPwmtVnVMjztznHPgQhQfJfvvHHGggQZ\n",
    "llTspLllCHmLHHndldqHdlLQQPSBQczZSFDDQZSNGcGG\n",
    "jMhwvVrRjbRhFBZNGPcGNN\n",
    "wVtrrtRwrfrwftjVjwWvMrRpsqsnsHsBglslCmTsdWdHTd\n",
    "vPvmTGgDPRvGpDPGPqGHQnWJQJMBBzJBlBQWlHWl\n",
    "bfbwNsmwFdLjbfrrLsSfLNQtMllznBzJQZMQtMlZZnnF\n",
    "frssSscssNfScCjfSCwjsDmRDpGmDRDvvvVcvRDvRp\n",
    "LtlPZPjBTbWsWJVJVzdT\n",
    "nnprqhrqmzfrSrphqfCChVVGVDJWgSHHWgWsRDVHWd\n",
    "nrmppNqhcCrfMchcMCncqbzPZvlvlwbBNjPjtNjZjL\n",
    "FPWsFdSspVbbbtWVvl\n",
    "CCHnnfHHvCwtVMhzlzDllC\n",
    "LrGnjGfgfvcwfgrLrBjrBLgwdBTSRBFsRZdRsSqFFSFSSPPp\n",
    "whGCLqsrjgGhhGFqrCCFGCGzTRTZJcNnzlLTnznNHcnzTH\n",
    "ddvVmbfvdvVbDVQdvvdSzpNcnJzlzSRHNJpnJcSc\n",
    "BPdvfQdWtPDDPfDvDQVVPmbhssCGGMqgFCFMqGMWgMjrRw\n",
    "PSLbGmWPSPLQbMTPWGFWltthdDdrmBDHhdDdczzDRh\n",
    "VfCngVfgsZwCftrZdhcZrdNDzz\n",
    "CjVJJJqnJwQhWPPLQlGj\n",
    "ntnnQmTQTQGVWGNGNNlClG\n",
    "jDffjMSvqjHzHHzwNVwNVcCddPVNdD\n",
    "ZszJsrrZMjsHqqvZJLRQCbTRQbJmThbt\n",
    "BgLHgFDsJNWgQgflWd\n",
    "mnVVcCHnCGRcVnZSjmlthftMQddlfhQctNfW\n",
    "qbSGqmHSTFprvpvTTL\n",
    "dvdTMvvpdLpTcSLvdLLMmhfFBftwCNhRwRNjtCTRCf\n",
    "lshQWgsgrHHqlFfRqFjRFfFwCB\n",
    "rsgHQbJbrsGHHlgQHgJrlHrPZdhdpMZGDSDpdPLcZhdvhZ\n",
    "\";"
   ]
  },
  {
   "cell_type": "markdown",
   "metadata": {},
   "source": [
    "\n",
    "The first rucksack contains the items vJrwpWtwJgWrhcsFMMfFFhFp, which means its first compartment contains the items vJrwpWtwJgWr, while the second compartment contains the items hcsFMMfFFhFp. The only item type that appears in both compartments is lowercase p.\n",
    "The second rucksack's compartments contain jqHRNqRjqzjGDLGL and rsFMfFZSrLrFZsSL. The only item type that appears in both compartments is uppercase L.\n",
    "The third rucksack's compartments contain PmmdzqPrV and vPwwTWBwg; the only common item type is uppercase P.\n",
    "The fourth rucksack's compartments only share item type v.\n",
    "The fifth rucksack's compartments only share item type t.\n",
    "The sixth rucksack's compartments only share item type s.\n",
    "To help prioritize item rearrangement, every item type can be converted to a priority:\n",
    "\n",
    "Lowercase item types a through z have priorities 1 through 26.\n",
    "Uppercase item types A through Z have priorities 27 through 52.\n",
    "In the above example, the priority of the item type that appears in both compartments of each rucksack is 16 (p), 38 (L), 42 (P), 22 (v), 20 (t), and 19 (s); the sum of these is 157.\n",
    "\n",
    "Find the item type that appears in both compartments of each rucksack. What is the sum of the priorities of those item types?\n",
    "\n"
   ]
  },
  {
   "cell_type": "code",
   "execution_count": 25,
   "metadata": {
    "dotnet_interactive": {
     "language": "csharp"
    },
    "vscode": {
     "languageId": "dotnet-interactive.csharp"
    }
   },
   "outputs": [
    {
     "name": "stdout",
     "output_type": "stream",
     "text": [
      "1=dWlhcDH, 2=FvDCfq,1=mGdZBwRj, 2=ZMFgvTt,1=jwJrzdGSb, 2=nNlzWcHPh,1=czbMBshD, 2=BTPGjtvl,1=LqJfpwdn, 2=vQLRGjt,1=gSnJCGprwf, 2=hcmHzrDbM,1=bVjstCSLr, 2=nMpdcLqHR,1=wPZJQtBfmg, 2=TcpdnfHMG,1=gmFJzwP, 2=tszvNhC,1=DmjZMWqGRpH, 2=LTNPfCQJHlc,1=FtzfvrwVg, 2=BLJNclTVQ,1=vgsdbzrwt, 2=qWfRpZDd,1=rJhqRLHdcQ, 2=fQGPstglWM,1=DzCpmnNBZV, 2=GPfsbglNwMWt,1=BZFnlmpzDV, 2=hFHrcRqTd,1=DWCFNq, 2=dGFPVcb,1=HltQsTRJbrh, 2=dmPLVcTnv,1=HSlstgJhRr, 2=zNBDSwMjZb,1=dzGSHCWsVD, 2=gJDpQqLTRm,1=BvNjMPZtlh, 2=LQqCJpmhTRg,1=lNncBMCwPZ, 2=rGsVHzcfFd,1=JfZhpMQmF, 2=zDTjSdrQ,1=sqHCbwBVt, 2=rWdjzlSJTBn,1=bHcwGCRsNt, 2=vmRFpJLZMPf,1=qBCrznVmDM, 2=NgrcvHbQW,1=TsdJRhl, 2=gbvdCFWQ,1=JhGlfRs, 2=nCMDqjmfV,1=rqLvDtSQhNd, 2=smWdjnPTMzf,1=ZRFpgCcB, 2=njTsMfPF,1=GCZplwJBgHc, 2=hSHLDrNqMt,1=FsPqDNZ, 2=nZrcBmWfQ,1=lSnRTvg, 2=rWtcTmf,1=SMbGvnl, 2=DwGqLNCV,1=dPQDcBwJgTG, 2=VjSsmLhTrp,1=MvZRHtbCNfB, 2=SMrjmLpnVhs,1=qHZtbBfRzCN, 2=PQgJGlFqdD,1=MsBVDp, 2=RPflhM,1=zWnCFHbSwq, 2=NmPSjGlsf,1=FnHbzsCg, 2=BptVgvrJ,1=pTLntZjQfVDl, 2=JCSWNPsmFl,1=BHbqGgw, 2=SWCwZ,1=qRzbhrHdv, 2=ZjfrVTpQtDc,1=DHsdPMRm, 2=hMZQBtljgGC,1=NFnCbzLVJr, 2=jhQtGBLZ,1=wNrfFJbCpn, 2=dwDSHsvm,1=jLZRnMJh, 2=vtQbdHfZ,1=mBzwptCWlcFs, 2=HSTpQfrb,1=mNltzsCFGwB, 2=GRgqjLMnPV,1=ZqcmVtbB, 2=MFfcQgphJ,1=HLWDvjwTzG, 2=hQslgJDfb,1=vHzLrwGTRP, 2=dSVnBbtNmrZ,1=TWVvPSgwqcRb, 2=shfFzCTGNH,1=njZrMLlpmD, 2=GfStrNzCF,1=ZQBmdD, 2=RPSBgcb,1=TpntvdZDbG, 2=SFlmzCRjqZ,1=MWrNcR, 2=lgqzMj,1=NPwsrBcVHJ, 2=tDvGVnpRbT,1=tsbvSfnq, 2=zQLBjfMd,1=gJRmNchrFW, 2=QMwBnjrVTdL,1=GcpRJg, 2=qstvpbnC,1=rsHcbZBT, 2=tLNSwHJ,1=mFqhWVsjCQ, 2=lNJGMwh,1=QgzfRCVFWq, 2=ZpDcRvTBnsd,1=bPFMBplfZHG, 2=NSrctJPh,1=zCgwnmQDdWR, 2=gqSrLsNJh,1=rQCTRmD, 2=BFfbHZT,1=fzPQsGr, 2=MjtHBs,1=SwNDqhWpVTbGm, 2=ZRHdbCtgBjM,1=vVTGN, 2=PvQfncJ,1=cwzMJblH, 2=DPqfJQ,1=rqjTBRCgN, 2=sGPDhFCfW,1=BZTSgj, 2=bSwVptvq,1=PJpvswHd, 2=TNZRjFmd,1=qbWVfChDnGSF, 2=NjRLmfBQ,1=DhFbnWCGc, 2=JPwrsMvlc,1=lFSDTwHNcpj, 2=LZvqnPWbgc,1=rzQfMRGJCBds, 2=ZWnqVdPgNv,1=RJrtBNQCsz, 2=TpShHFDwlt,1=QNzFjrPb, 2=mPpqTDGswWB,1=gHRcSlCVzM, 2=qDGwgTWpsm,1=cltzCZLHRM, 2=QjfNvtrJhd,1=mcfWHBF, 2=nQRlTFdv,1=wsSLVbzDgNh, 2=NMnvljRdQBC,1=bhDzVSJLBwt, 2=WpfcmGrqtHP,1=rpVFZgHWS, 2=PqhzwcmVBD,1=vMTnQJjLCblz, 2=PNdBLwDhmq,1=jvGQJn, 2=rspGHgFz,1=sjtZlcph, 2=HwWvcrTJ,1=qDdzrFNGVB, 2=VvfWJPgmwH,1=nqMQGDrLN, 2=jtCZsMhbl,1=JsLFmzrlSpP, 2=cjgHhnRmvq,1=fCMQbT, 2=jqTGhc,1=bfdWCBtqVQ, 2=pPlBrJLSwFsz,1=pdbzlfWtJ, 2=gQwhcpC,1=vHLFVSfRnN, 2=jPgcsQnwhC,1=vGVFHLTDR, 2=mBbTzfZWMdJl,1=wjCbQgThNzW, 2=rDFMZmCpL,1=czGSPnRJlVB, 2=mDcMFZLqfrp,1=JPGlvBSHVn, 2=sjvQzwd,1=MFlWQHDTpnsN, 2=hzjGgrDvmZ,1=PtTcLbBCVR, 2=vhjmVSZGg,1=JLPfCwbTB, 2=lpMqWswHQn,1=QbHVBzWtNw, 2=SgqhbFRLjm,1=ZnCMcdsDJT, 2=gFJwRmSL,1=sTMZpGDvcC, 2=PHwzrfpWB,1=PMdJWwHFn, 2=NzbDlfCMv,1=rZgtFpcB, 2=bCDvgfGz,1=QsZBmrFcV, 2=jQJRWLwq,1=GwNJR, 2=ThwrWf,1=SmQqzsjHCbv, 2=TjWpFfhcB,1=mbHtCzQZ, 2=RdZJhNMlg,1=rsPbncQvg, 2=TdGDVcCpZH,1=RwhjLqtJFzm, 2=GpDZVdBFHC,1=zhwLftjNC, 2=gWbrnMvPf,1=tQMTSBFmgb, 2=nTPrZvzNGdL,1=HqhwDpclV, 2=rFzvGpZP,1=RwlhjCVfD, 2=bMtFWBJgjm,1=WpVlzsGBJNc, 2=hmgzrdtQM,1=RfnPLTDHdbw, 2=vntSrFgm,1=CwqRDbT, 2=JcBNZqdVlp,1=tpfnNBsGRCg, 2=QJGMPWdwFjVz,1=chLSTbqvZlm, 2=dMzFWVSQJwj,1=rLqcjDvh, 2=RsDfHtNn,1=DjZvTqrt, 2=SMcdRmJrN,1=HWgPGVhF, 2=nSVtJcdMs,1=FPLfBwCWGH, 2=DBZlbpjvqTtz,1=FJNqgsGB, 2=TlMVcgrCwLh,1=fRZzDmvdbtp, 2=rThLMCvcwlS,1=zmfZtpDbWRd, 2=qFljnNQGWs,1=rMdWmJvSf, 2=pVRqFHMPQ,1=tDGhLjZNg, 2=qHTVRpPDQ,1=ZlLtzNjgs, 2=pfWJvlrCBmn,1=hqpWvFJsNHM, 2=RmDcMLwZnj,1=LdrlgCST, 2=nwRjmQZdG,1=PVlfCrLgtBz, 2=HhFbWzJNvq,1=TbQtnDGjlsH, 2=pJmFWrBlS,1=CZzNhdcMRV, 2=jpCBwrvJmS,1=fhZdRjgzMP, 2=TsLGQtHbDPq,1=nHWsQNT, 2=hwjBJmHF,1=VZpfbvSG, 2=BhSwmtJljF,1=bphMfvzDGZ, 2=gQNrnzdTsqW,1=VPNdTmncZD, 2=bQTFjMptzs,1=lJCWrgvRwf, 2=SzjQpbMHws,1=fRhGBJCgr, 2=NLsPVhq,1=pLrVDgbNjls, 2=tHBqWShQcD,1=MCdwGTmnv, 2=qNhHQRWcwBS,1=TNFPfvJCGd, 2=zVjspLZglJbr,1=cdPzFrlgCn, 2=BNRsLbVZHdm,1=wTQvtqcG, 2=TZmVHBbLR,1=GWJSfcjQwhq, 2=fgpMnzDlPr,1=pMhqTsSdBPN, 2=QFvltWCRVqG,1=dfcbnmrjz, 2=RFvGQf,1=mDrjLcJ, 2=hpZSJMd,1=NGZwqFhcS, 2=CfRzwdV,1=QTmBsWJP, 2=CvzpHPdVFR,1=bsmWTBQDLM, 2=chgqLGZSFj,1=HgmGlsvBDCdw, 2=hZJWTjSdFt,1=RQfVrNszMpnLb, 2=tjhSbWJFZq,1=PNzLfn, 2=BCPHgs,1=mTZGgCdNSQ, 2=LpPnDhRlGV,1=vWJHFsfMBbjr, 2=LRPnpthVSb,1=fzMrBjWs, 2=ZCmSTgQzcN,1=mgCZMnBpJ, 2=fbQwSPDTdhn,1=sHhcrWLFlzRNv, 2=PwDTWdqbSQ,1=RNslrcvFV, 2=ghZBJtVCGj,1=gchrRd, 2=nRwPvQ,1=CVSrDjFHbBLG, 2=vwnNMsPQV,1=lHLCTGDbjF, 2=zdWlpcqfgrZ,1=fRDPsqJtSzg, 2=WQCbGMnPV,1=rTBvZh, 2=nWDCbZ,1=cwLlTpjBFh, 2=gfRmqDdj,1=sprGPTJzqNt, 2=fbQdSDFvZwN,1=LWCMVmwg, 2=FQfDvZgd,1=mlMRVCWHjh, 2=zpTtlrPwsGJ,1=tsfwjdrClv, 2=LnTHNmvcRW,1=qQSZFRBzghD, 2=ncHgmNWM,1=SQJphFzRD, 2=sdpVlrCw,1=vGQqLFB, 2=vdNnjDc,1=TRJwmWZlC, 2=znbNhDRgj,1=CTtDlmWZ, 2=VLsFftBQ,1=cfWlMmPBhQt, 2=LmvrCjRTw,1=gSbsHdjzqVD, 2=LZvTwSrF,1=sdbJqDNj, 2=JBpWlMcf,1=FHlMPqDL, 2=ctgHSnC,1=zhrmBTwJj, 2=QcSvqbtwGg,1=jBmJRZTzhr, 2=LDdZqfpMWlV,1=zPVdbsBZwq, 2=JGhrLTvNqH,1=tmCgPDnp, 2=HDjNvGhrL,1=pRWlSPCn, 2=bQVwFSBZz,1=nDrCvmMSs, 2=blBzCZpJT,1=FNRtWfcGq, 2=QbzlZTqBd,1=GRwFfNt, 2=MvBsnwj,1=LVTBjlJC, 2=DrnJzNQR,1=Gsgpfhcdq, 2=zbMhQRnrN,1=PwWFqGpdgfs, 2=mjCVHPlZN,1=qVTsCWwbPlfcv, 2=DgLzbhrRjZ,1=ntmHNpSQGdB, 2=jrDLQZhRFT,1=mtMBNTSpJGdH, 2=cVWPsvqJfwl,1=vWzLdpZDhTcr, 2=wSPnCfJMQGr,1=tHVmNsBRb, 2=MwnjBfJCP,1=tsVlgNqbR, 2=lfpdDvWT,1=mLjsQq, 2=BRvlLT,1=bhgtDC, 2=tmpTS,1=nfmdbgwG, 2=WrfsPzq,1=JpWDcSG, 2=zsHPSlbd,1=wVRqZ, 2=wPDbdH,1=VtLhgfQRTNqD, 2=cCJBmWMprFN,1=dhDtmLPls, 2=GlRFjfzBpJ,1=QMrVwbvCcnq, 2=SMBJfpjFzRWG,1=cwvbHCqV, 2=hRDHgsPTdt,1=CgVNtDsJ, 2=GZqMhD,1=cLRnSHgWdjQl, 2=BTPcwhzqM,1=HnglWdRjmQ, 2=NsFmJCv,1=hfcLbjSRDZF, 2=JzrlvwnFWq,1=TCsPLNtQdpV, 2=NvJWlzwr,1=pHtPsCQ, 2=fbRHDhML,1=nWRgLtf, 2=TcZNsfd,1=JMGzVwTvQFHm, 2=PdsCjlHcSN,1=vGrMQmTzJp, 2=ghWRpbBqL,1=WSbhFPTpRfd, 2=QLzlHvtsgd,1=pZcGJDNVrw, 2=nvtNlzsg,1=qmJZcBwrMV, 2=bWfSPpmjCF,1=jHVCcp, 2=NrDgjsfB,1=ndqlRvJQtTWF, 2=NDrsMZBfLvb,1=qTFnWJdRlQG, 2=mwSHCzpcGNPV,1=pZCBhDfvg, 2=VZQGMlq,1=sLTSjPnN, 2=bFGRPVHqM,1=TsNScnjLdm, 2=WvBhfmpCGD,1=VWFPMpS, 2=bTpHnR,1=DtvfNdBSLjs, 2=THnzwrsqb,1=dgBLNfjtQSvDl, 2=McQJmZCVFPG,1=VWsQLHMSNRhj, 2=bdpDZcRzt,1=FPlhgvTGJ, 2=ndCJzp,1=qrTfmlGv, 2=wNMsfQh,1=NsmFqlnQRbCJ, 2=gSfpPcbvrV,1=LhZGDwtHMdj, 2=pTzPdgvcSr,1=jgHMBLhwtZ, 2=mJNFlBqn,1=bznSQgscMTfJ, 2=FwClMhmtvLZ,1=BRWPVjNHpq, 2=lqrvtwFmLZ,1=WDVdNHvR, 2=gcsDbT,1=sNgnQLtPp, 2=qdjBclpGW,1=rVChSZwqDHmM, 2=jldGfJH,1=CVZmDvhFr, 2=gTNbnQFsq,1=WmMSfJNRP, 2=tlCgdSbD,1=QGBrvzwc, 2=lgqCtDbv,1=QpBGFrLjz, 2=VRNjPmWMb,1=gGljnJhtpN, 2=VCHWcdTjmB,1=bLfSQDM, 2=SHmBnwC,1=LFMDrbfQZRzn, 2=gtlsRGpNhP,1=cRThZCtg, 2=jWFNwqCGmf,1=DPGzMHbr, 2=pqjfwrm,1=JVHDdbvGMnQ, 2=cRZlhtgSLTBv,1=lQWPSBrZGg, 2=sDfHnWFvh,1=TDCqptJNLwbz, 2=HshvMFnmNf,1=JCjqVpDt, 2=rBjQl,1=wFGWpLv, 2=CczNSWs,1=tlfgjbHD, 2=BszmQnDC,1=gjfrsVqPl, 2=qhvLdwZG,1=pHZBSvRC, 2=TMngRWdmc,1=jsfrJFDw, 2=MgCGWcfm,1=qbCszjtQr, 2=ZVBHvqLlp,1=scFzPSNgQpt, 2=lCBwpLrMDdjq,1=TjfGZV, 2=wMZLr,1=vnGbWTm, 2=FRjQPsb,1=bVLrzqJgtW, 2=pcBCzvdwHD,1=hflPQnMmSRN, 2=THwqpdfBC,1=hFZMqSN, 2=brZgWGJj,1=NJsgjlMHQ, 2=rwnRgSP,1=tqpQTFvbGzW, 2=SrnbhwCRf,1=GtcvqQpzdFWD, 2=sZMJjBcNmL,1=lGfZhF, 2=dSWqmF,1=wDRPLcnjt, 2=WbSmqrCL,1=MPwmtVnjzH, 2=gQhfJvHGZ,1=lTspLCHmndq, 2=LQPSBczZFDNG,1=jMhwvVrRb, 2=hFBZNGPc,1=wVtrRfjWvM, 2=psqnHBglCmTdW,1=vPmTGgDRpqH, 2=QnWJMBzlH,1=bfwNsmFdLjrS, 2=QtMlznBJZF,1=frsScNCjw, 2=DmRpGvVc,1=LtlPZjBTb, 2=WsJVzdT,1=nprqhmzfSC, 2=VGDJWgSHsRd,1=nrmpNqhcCfM, 2=bzPZvlwBNjtL,1=FPWsdSp, 2=VbtWvl,1=CHnfvw, 2=tVMhzlDC,1=LrGnjfgvcwB, 2=dBTSRFsZqPp,1=whGCLqsrjgF, 2=zTRZJcNnlLH,1=dvVmbfDQS, 2=zpNcnJlSRH,1=BPdvfQWtDVmb, 2=hsCGMqgFWjrRw,1=PSLbGmWQMTFl, 2=thdDrmBHczR,1=VfCngsZw, 2=trZdhcNDz,1=CjVJqnw, 2=QhWPLlGj,1=ntQmTG, 2=VWGNlC,1=jDfMSvqHz, 2=wNVcCdPD,1=ZszJrMjHqv, 2=JLRQCbTmht,1=BgLHFDsJ, 2=NWgQfld,1=mnVcCHGRZSj, 2=lthfMQdcNW,1=qbSGmHT, 2=FprvTL,1=dvTMpLcSm, 2=hfFBtwCNRjT,1=lshQWgrHq, 2=FfRqjwCB,1=rsgHQbJGl, 2=PZdhpMGDSLcv\n"
     ]
    }
   ],
   "source": [
    "\n",
    "var inputParsed = input.Split(Environment.NewLine, StringSplitOptions.TrimEntries)\n",
    ".SkipWhile(s => string.IsNullOrWhiteSpace(s))\n",
    ".Reverse()\n",
    ".SkipWhile(s => string.IsNullOrWhiteSpace(s))\n",
    ".Reverse();\n",
    "\n",
    "record Rucksack\n",
    "{\n",
    "    public HashSet<char> Contents;\n",
    "    public HashSet<char> FirstCompartment;\n",
    "    public HashSet<char> SecondCompartment;\n",
    "\n",
    "    public Rucksack(string encoded)\n",
    "    {\n",
    "        Contents = new(encoded);\n",
    "        FirstCompartment = new(encoded.Substring(0,encoded.Length/2));\n",
    "        SecondCompartment = new(encoded.Substring(encoded.Length/2,encoded.Length/2));\n",
    "    }\n",
    "\n",
    "    public override string ToString() => $\"1={string.Join(null,FirstCompartment)}, 2={string.Join(null,SecondCompartment)}\";\n",
    "}\n",
    "\n",
    "var rucksacks = inputParsed.Select(s => new Rucksack(s));\n",
    "\n",
    "\n",
    "Console.WriteLine(string.Join(\",\",rucksacks));"
   ]
  },
  {
   "cell_type": "code",
   "execution_count": 26,
   "metadata": {
    "dotnet_interactive": {
     "language": "csharp"
    },
    "vscode": {
     "languageId": "dotnet-interactive.csharp"
    }
   },
   "outputs": [
    {
     "name": "stdout",
     "output_type": "stream",
     "text": [
      "D,Z,z,B,L,r,L,f,z,H,V,d,Q,N,F,F,T,S,D,h,c,Q,B,R,r,d,f,d,F,H,Z,T,G,T,M,q,M,S,g,l,w,r,M,L,w,Z,p,G,c,D,r,T,r,B,Z,M,V,f,r,p,H,h,R,P,g,T,s,b,v,J,C,S,d,f,c,c,d,t,P,g,t,F,N,t,V,L,G,c,V,M,m,T,B,p,n,T,C,c,v,D,V,w,b,J,p,M,g,Q,w,j,Z,c,F,f,T,p,j,z,n,q,G,S,D,r,V,B,g,v,W,M,D,l,M,d,z,l,C,P,H,S,z,T,w,h,D,w,J,d,T,f,q,f,J,w,P,L,d,b,P,G,b,z,n,W,V,R,V,l,P,Z,j,N,g,l,v,g,p,v,R,t,m,S,J,H,w,Z,q,D,S,C,q,w,J,h,P,b,Q,J,r,B,l,L,t,f,S,w,N,l,M,H,D,c,m,F,N,H,f,H,p,d,N,m,j,v,G,Z,P,m,p,s,Q,R,J,f,b,d,B,M,q,D,p,H,F,S,v,j,j,S,R,C,r,v,W,N,j,W,D,q,R,f,q,p,Z,b,z,f,Z,g,b,c,F,L,H,L,h,W,H,F,c,T,S,N,W,C,B,L,S,W,m,Z,j,G,D,J,g,c,T,T,q,G\n"
     ]
    }
   ],
   "source": [
    "var itemInBoth = rucksacks.Select(r => r.FirstCompartment.Intersect(r.SecondCompartment).Single());\n",
    "\n",
    "Console.WriteLine(string.Join(\",\",itemInBoth));"
   ]
  },
  {
   "cell_type": "code",
   "execution_count": 27,
   "metadata": {
    "dotnet_interactive": {
     "language": "csharp"
    },
    "vscode": {
     "languageId": "dotnet-interactive.csharp"
    }
   },
   "outputs": [
    {
     "name": "stdout",
     "output_type": "stream",
     "text": [
      "Day 3 Part 1 : 8105\n"
     ]
    }
   ],
   "source": [
    "\n",
    "int PriorityValue(char c) => c switch {\n",
    "    var x when x >= 'a' && x <= 'z' => (int)(x) - (int)('a') + 1,\n",
    "    var x when x >= 'A' && x <= 'Z' => (int)(x) - (int)('A') + 27,\n",
    "};\n",
    "\n",
    "var priorities = itemInBoth.Sum( item => PriorityValue(item));\n",
    "\n",
    "Console.WriteLine($\"Day 3 Part 1 : {priorities}\");"
   ]
  },
  {
   "cell_type": "markdown",
   "metadata": {},
   "source": [
    "-- Part Two ---\n",
    "As you finish identifying the misplaced items, the Elves come to you with another issue.\n",
    "\n",
    "For safety, the Elves are divided into groups of three. Every Elf carries a badge that identifies their group. For efficiency, within each group of three Elves, the badge is the only item type carried by all three Elves. That is, if a group's badge is item type B, then all three Elves will have item type B somewhere in their rucksack, and at most two of the Elves will be carrying any other item type.\n",
    "\n",
    "The problem is that someone forgot to put this year's updated authenticity sticker on the badges. All of the badges need to be pulled out of the rucksacks so the new authenticity stickers can be attached.\n",
    "\n",
    "Additionally, nobody wrote down which item type corresponds to each group's badges. The only way to tell which item type is the right one is by finding the one item type that is common between all three Elves in each group.\n",
    "\n",
    "Every set of three lines in your list corresponds to a single group, but each group can have a different badge item type. So, in the above example, the first group's rucksacks are the first three lines:\n",
    "\n",
    "vJrwpWtwJgWrhcsFMMfFFhFp\n",
    "jqHRNqRjqzjGDLGLrsFMfFZSrLrFZsSL\n",
    "PmmdzqPrVvPwwTWBwg\n",
    "And the second group's rucksacks are the next three lines:\n",
    "\n",
    "wMqvLMZHhHMvwLHjbvcjnnSBnvTQFn\n",
    "ttgJtRGJQctTZtZT\n",
    "CrZsJsPPZsGzwwsLwLmpwMDw\n",
    "In the first group, the only item type that appears in all three rucksacks is lowercase r; this must be their badges. In the second group, their badge item type must be Z.\n",
    "\n",
    "Priorities for these items must still be found to organize the sticker attachment efforts: here, they are 18 (r) for the first group and 52 (Z) for the second group. The sum of these is 70.\n",
    "\n",
    "Find the item type that corresponds to the badges of each three-Elf group. What is the sum of the priorities of those item types?\n",
    "\n"
   ]
  },
  {
   "cell_type": "code",
   "execution_count": 28,
   "metadata": {
    "dotnet_interactive": {
     "language": "csharp"
    },
    "vscode": {
     "languageId": "dotnet-interactive.csharp"
    }
   },
   "outputs": [
    {
     "name": "stdout",
     "output_type": "stream",
     "text": [
      "d,G,t,f,l,b,C,J,C,M,n,B,s,Z,C,t,b,S,R,n,s,r,G,q,F,N,z,B,z,r,q,f,z,T,w,F,h,C,F,d,j,t,l,p,L,j,h,s,N,c,d,F,s,S,h,r,D,w,R,D,j,q,P,B,N,T,f,m,D,R,g,L,T,p,N,G,S,h,g,v,q,b,n,G,D,s,C,j,q,Q,m,B,m,z,v,R,h,C,H,h\n"
     ]
    }
   ],
   "source": [
    "var groups = rucksacks.Chunk(3);\n",
    "\n",
    "var badges = groups.Select(g => g.ToArray())\n",
    "    .Select(g => g[0].Contents.Intersect(g[1].Contents).Intersect(g[2].Contents).Single());\n",
    "    \n",
    "Console.WriteLine(string.Join(\",\",badges));\n"
   ]
  },
  {
   "cell_type": "code",
   "execution_count": 29,
   "metadata": {
    "dotnet_interactive": {
     "language": "csharp"
    },
    "vscode": {
     "languageId": "dotnet-interactive.csharp"
    }
   },
   "outputs": [
    {
     "name": "stdout",
     "output_type": "stream",
     "text": [
      "Day 3 Part 2 : 2363\n"
     ]
    }
   ],
   "source": [
    "\n",
    "var badgeSum = badges.Sum( item => PriorityValue(item));\n",
    "\n",
    "Console.WriteLine($\"Day 3 Part 2 : {badgeSum}\");"
   ]
  }
 ],
 "metadata": {
  "kernelspec": {
   "display_name": ".NET (C#)",
   "language": "C#",
   "name": ".net-csharp"
  },
  "language_info": {
   "file_extension": ".cs",
   "mimetype": "text/x-csharp",
   "name": "C#",
   "pygments_lexer": "csharp",
   "version": "9.0"
  },
  "orig_nbformat": 4
 },
 "nbformat": 4,
 "nbformat_minor": 2
}
